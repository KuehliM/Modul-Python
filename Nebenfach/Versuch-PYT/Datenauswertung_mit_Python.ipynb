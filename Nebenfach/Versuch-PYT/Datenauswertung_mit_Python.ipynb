{
 "cells": [
  {
   "attachments": {},
   "cell_type": "markdown",
   "metadata": {},
   "source": [
    "# Datenauswertung mit Python\n",
    "\n",
    "In diesem Notebook lernen Sie wichtige Module und Funktionen zur Datenauswertung mit Python kennen. Sie können am Ende dieses Notebooks **Messdaten einlesen**, **Plots erstellen** und **stylen**, **verschiedene Funktionen** zum **Fitten** der Messergebnisse **verwenden** und anhand der Ergebnisse **Unsicherheiten bestimmen** und **angeben**. \n",
    "\n",
    "Die Verwendung und Bearbeitung von Jupyter-Notebooks sowie die Grundlagen zu Python haben Sie bereits in dem Einführungs-Notebook *Einführung_in_Python.ipynb* kennengelernt.\n",
    "\n",
    "Starten Sie mit der Bearbeitung dieses Notebooks erst, wenn Sie das Experiment zum Federpendel abgeschlossen haben und sich die **Messergebnisse in dem selben Ordner** wie dieses Notebook **befinden**."
   ]
  },
  {
   "cell_type": "markdown",
   "metadata": {},
   "source": [
    "---"
   ]
  },
  {
   "cell_type": "markdown",
   "metadata": {},
   "source": [
    "Bitte führen Sie zunächst die Zelle mit dem Skript für die Hilfestellungen aus. Die Datei muss sich in dem selben Verzeichnis (Ordner) wie dieses Notebook befinden."
   ]
  },
  {
   "cell_type": "code",
   "execution_count": null,
   "metadata": {},
   "outputs": [],
   "source": [
    "# Skript für die Hilfestellungen\n",
    "%run Hilfestellungen.py"
   ]
  },
  {
   "cell_type": "markdown",
   "metadata": {},
   "source": [
    "In diesem Notebook gibt es an einigen Stellen Hilfestellungen in der Form von Buttons. Ein Beispiel dafür sehen Sie in der nachfolgenden Zelle. Klicken Sie auf den Button, um die Hilfestellug anzuzeigen. Möchten Sie die Hilfestellung ausblenden müssen Sie die Code-Zelle einfach neu ausführen. "
   ]
  },
  {
   "cell_type": "code",
   "execution_count": null,
   "metadata": {},
   "outputs": [],
   "source": [
    "# Code für Hilfestellungen (Beispiel)\n",
    "button0 = widgets.Button(description=\"Hilfe anzeigen (Beispiel)\", layout=widgets.Layout(width='40%'));button0.on_click(h_beispiel);display(button0);hilfe_output = None"
   ]
  },
  {
   "cell_type": "markdown",
   "metadata": {},
   "source": [
    "---"
   ]
  },
  {
   "attachments": {},
   "cell_type": "markdown",
   "metadata": {},
   "source": [
    "## Inhaltsverzeichnis\n",
    "\n",
    "- 1 [Start](#1-start)\n",
    "- 2 [Parameter bestimmen](#2-parameter-bestimmen)\n",
    "- 3 [Auswertung der Messungen bei veränderter Masse](#3-auswertung-der-messungen-bei-veränderter-masse)\n",
    "- 4 [Bestimmung der Federkonstante](#4-bestimmung-der-federkonstante)\n",
    "- [Anhang](#anhang)"
   ]
  },
  {
   "attachments": {},
   "cell_type": "markdown",
   "metadata": {},
   "source": [
    "# 1 Start\n",
    "\n",
    "In diesem Abschnitt werden die Messdaten eingelesen und für die weitere Verwendung in Variablen gespeichert. Daraufhin wird ein erster Plot zur Visualisierung der zu beobachtenden Größen erstellt.\n",
    "\n",
    "Zuerst muss das Paket importiert werden, welches die Funktion zum Einlesen der Daten liefert. Importieren Sie das Modul *numpy* als *np*."
   ]
  },
  {
   "cell_type": "code",
   "execution_count": null,
   "metadata": {},
   "outputs": [],
   "source": [
    "# import numpy\n",
    "\n",
    "# hier Code einfügen\n",
    "# ---------- \n",
    "\n",
    "\n",
    "\n",
    "# ---------- "
   ]
  },
  {
   "attachments": {},
   "cell_type": "markdown",
   "metadata": {},
   "source": [
    "Anschließend können die Messdaten mit der Funktion [np.loadtxt()](https://numpy.org/doc/stable/reference/generated/numpy.loadtxt.html) als *numpy*-Array in Variablen gespeichert werden. Die relevanten Parameter sind der Dateiname als *string* (fname), das Trennzeichen (delimiter=*string*), die zu überspringenden Zeilen (skiprows=*interger*) und die zu verwendenden Spalten (usecols=*integer or list/tupel*). Zusätzlich kann mit dem Parameter *`unpack=True`* angegeben werden, dass Spalten und nicht Zeilen eingelesen werden sollen. <br>\n",
    "Alle Parameter bis auf den Dateinamen sind optional und müssen nur angegeben werden, wenn z. B. das Trennzeichen innerhalb der Datei unterschiedlich zum `default`-Wert der `loadtxt()`-Funktion (whitespace) ist. Die Funktion gibt mit dem Parameter `unpack=True` *numpy*-Arrays in der From `[[Spalte1][Spalte2][Spalte3]...]` zurück.\n",
    "\n",
    "Lesen Sie nun ihre Messdaten der 1. Messung ein und speichern Sie die Spalten in geeignete Variablen.\n",
    "\n",
    "**Tipps:** \n",
    "- Überprüfen Sie Ihre `.csv`-Datei auf Trennzeichen und zu überspringenden Zeilen.\n",
    "- Nutzen Sie *unpacking*, das Sie im Einführungs-Notebook (Abschnitt 2.3) kennengelernt haben.\n",
    "- *strings* haben immer \" \" oder ' '\n"
   ]
  },
  {
   "cell_type": "code",
   "execution_count": null,
   "metadata": {},
   "outputs": [],
   "source": [
    "# einlesen der Daten in verschiedene Variablen:\n",
    "\n",
    "# hier Code einfügen\n",
    "# ---------- \n",
    "\n",
    "\n",
    "\n",
    "\n",
    "# ---------- \n",
    "\n",
    "# Überprüfung Sie hier ihre Variablen\n",
    "# print()"
   ]
  },
  {
   "cell_type": "code",
   "execution_count": null,
   "metadata": {},
   "outputs": [],
   "source": [
    "# Code für Hilfestellungen\n",
    "button = widgets.Button(description=\"Hilfe anzeigen\");button.on_click(h_einlesen);display(button);hilfe_output = None"
   ]
  },
  {
   "attachments": {},
   "cell_type": "markdown",
   "metadata": {},
   "source": [
    "Zur Veranschaulichung sollen jetzt die auszuwertenden Daten geplottet werden.\n",
    "\n",
    "Hierfür muss wieder zuerst das Modul mit den gewünschten Funktionen importiert werden. Importieren Sie das Modul *matplotlib.pyplot* als *plt*."
   ]
  },
  {
   "cell_type": "code",
   "execution_count": null,
   "metadata": {},
   "outputs": [],
   "source": [
    "# import matplotlib\n",
    "\n",
    "# hier Code einfügen\n",
    "# ----------\n",
    "\n",
    "\n",
    "# ----------"
   ]
  },
  {
   "attachments": {},
   "cell_type": "markdown",
   "metadata": {},
   "source": [
    "Nun kann mit der Funktion [plt.plot()](https://matplotlib.org/stable/api/_as_gen/matplotlib.pyplot.plot.html) ein Plot der gewünschten Größen erstellt werden. Die wichtigsten Parameter sind hier die x-Werte, die y-Werte, die Form der Punkte (`marker='o'`) und das Aussehen der Verbindung von Pukten (`linestyle=''`, leer für keine Verbindung der Punkte). Passende Werte für die Parameter finden Sie in der\n",
    "Dokumentation von `plt.plot()`. Es gibt noch viele weitere Einstellungsmöglichkeiten wie Beschriftungen und Anpassungen der Achsen, welche jedoch erst bei dem endgültigen Plot am Ende der Auswertung gebraucht werden. Mit der Funktion [plt.minorticks_on()](https://matplotlib.org/stable/api/_as_gen/matplotlib.pyplot.minorticks_on.html) werden die kleinen Skalenstriche angezeigt. Dies kann später bei der Parameterfindung helfen. Das Anzeigen des Koordinatengitters mit [plt.grid()](https://matplotlib.org/stable/api/_as_gen/matplotlib.pyplot.grid.html) kann ebenfalls helfen.\n",
    "\n",
    "Plotten Sie jetzt ihre Messdaten.\n",
    "\n",
    "**Tipp**: Verwenden Sie `strg + F`, um einfacher im Browser die Parameter innerhalb der Dokumentationen zu finden."
   ]
  },
  {
   "cell_type": "code",
   "execution_count": null,
   "metadata": {},
   "outputs": [],
   "source": [
    "# einfacher Plot:\n",
    "\n",
    "# hier Code einfügen\n",
    "# ----------\n",
    "\n",
    "\n",
    "# ----------"
   ]
  },
  {
   "cell_type": "code",
   "execution_count": null,
   "metadata": {},
   "outputs": [],
   "source": [
    "# Code für Hilfestellungen\n",
    "button1 = widgets.Button(description=\"Hilfe anzeigen\");button1.on_click(h_plotten);display(button1);hilfe_output = None"
   ]
  },
  {
   "attachments": {},
   "cell_type": "markdown",
   "metadata": {},
   "source": [
    "Zu erkennen ist hier der sinusartige Verlauf der Beschleunigung des Handys am Federpendel. Da Sie am Ende dieses Notebooks die Federkonstante bestimmen sollen, müssen im nächsten Schritt die Parameter des Beschleunigungsverlaufs bestimmt werden."
   ]
  },
  {
   "attachments": {},
   "cell_type": "markdown",
   "metadata": {},
   "source": [
    "# 2 Parameter bestimmen\n",
    "\n",
    "Zur Bestimmung der Parameter (Amplitude, Frequenz, Phasenverschiebung) muss der Funktionsverlauf gefittet werden. Dazu wird zunächst die erwartete Funktion mit Variablen für die Parameter deklariert. <br>\n",
    "Wie Funktionen definiert werden, haben Sie bereits im vorangehenden Einführungs-Notebook gelernt.\n",
    "\n",
    "Deklarieren Sie nun die Funktion passend zum Verlauf der Beschleunigung beim Federpendel. Die Beschreibung der mechanischen Schwingung beim Federpendel von [LEIFIPhysik](https://www.leifiphysik.de/mechanik/mechanische-schwingungen/grundwissen/federpendel) kann Ihnen hier helfen.\n",
    "\n",
    "\n",
    "**Tipp**: Mathematische Funktionen wie Sinus, Cosinus, etc. werden von numpy bereitgestellt und können mit `np.sin()` verwendet werden. Alle mathematischen numpy-Funktionen finden Sie hier: [Mathematische Funktionen](https://numpy.org/doc/stable/reference/routines.math.html)"
   ]
  },
  {
   "cell_type": "code",
   "execution_count": null,
   "metadata": {},
   "outputs": [],
   "source": [
    "# Deklaration der erwarteten Funktion:\n",
    "\n",
    "# hier Code einfügen\n",
    "# ----------\n",
    "\n",
    "\n",
    "# ----------"
   ]
  },
  {
   "cell_type": "code",
   "execution_count": null,
   "metadata": {},
   "outputs": [],
   "source": [
    "# Code für Hilfestellungen\n",
    "button2 = widgets.Button(description=\"Hilfe anzeigen (Deklaration der Funktion)\",layout=widgets.Layout(width='40%'));button3 = widgets.Button(description=\"Hilfe anzeigen (Beschleunigungsverlauf)\", layout=widgets.Layout(width='40%'));button2.on_click(h_function);button3.on_click(h_b_function);display(widgets.HBox([button2,button3]));hilfe_output = None"
   ]
  },
  {
   "attachments": {},
   "cell_type": "markdown",
   "metadata": {},
   "source": [
    "Die verwendete Optimierungsfunktion `optimize` zum Fitten Ihrer Messergebnisse ist Inhalt des Pakets *scipy* und muss zu Beginn importiert werden. Importieren Sie das Modul *optimize* aus dem Paket *scipy*."
   ]
  },
  {
   "cell_type": "code",
   "execution_count": null,
   "metadata": {},
   "outputs": [],
   "source": [
    "# import scipy\n",
    "\n",
    "# hier Code einfügen\n",
    "# ----------\n",
    "\n",
    "\n",
    "# ----------"
   ]
  },
  {
   "attachments": {},
   "cell_type": "markdown",
   "metadata": {},
   "source": [
    "Um im nächsten Schritt die Parameter bestimmen zu können, müssen die Parameter vorerst abgeschätzt werden. Die Optimierungsfunktion durchläuft beim Anpassen der Parameter eine gewisse Anzahl an Annäherungsschritte. Durch die Komplexität der Funktion müssen die Parameter gut abgeschätzt werden. Hier ist vor allem die Schätzung der Winkelgeschwindigkeit wichtig. Bei einfacheren Funktionen müssen gegebenenfalls auch gar keine Parameter vorgegeben werden und die Funktion findet sie von selbst.\n",
    "\n",
    "**Tipp**: Schauen Sie sich die Funktion und die relevanten Größen genau an. Hier kann Ihnen der Plot von gerade helfen. Umformungen wie Winkelgeschwindigkeit zu Periodendauer vereinfachen das Ablesen. Plotten Sie nach dem ersten Durchlauf die Funktion (Code-Zelle *Plot*) und betrachten Sie die Unterschiede zwischen Messung und Fit-Funktion. \n",
    "\n",
    "Probieren Sie ein paar Kombinationen aus. Dazu müssen Sie einfach die drei Code-Zellen (*Parameter schätzen*, *Optimierungsfunktion*, *Plot*) nach Änderung der Parameter neu ausführen."
   ]
  },
  {
   "cell_type": "code",
   "execution_count": null,
   "metadata": {},
   "outputs": [],
   "source": [
    "# Parameter schätzen:\n",
    "\n",
    "# Winkelgeschwindigkeit\n",
    "#guess_omega = ?\n",
    "\n",
    "# Amplitude\n",
    "#guess_amp = ?\n",
    "\n",
    "# Phasenverschiebung\n",
    "#guess_c = ?\n"
   ]
  },
  {
   "cell_type": "code",
   "execution_count": null,
   "metadata": {},
   "outputs": [],
   "source": [
    "# Code für Hilfestellungen\n",
    "button4 = widgets.Button(description=\"Hilfe anzeigen\");button4.on_click(h_guess);display(button4);hilfe_output = None"
   ]
  },
  {
   "attachments": {},
   "cell_type": "markdown",
   "metadata": {},
   "source": [
    "Mit den überlegten Parametern kann jetzt die Optimierungsfunktion ausgeführt werden. <br>\n",
    "Die Funktion [optimize.curve_fit()](https://docs.scipy.org/doc/scipy/reference/generated/scipy.optimize.curve_fit.html) gibt zwei Arrays zurück. In `opt` werden die optimierten Parameter gespeichert und in `cov` die Kovarianzmatrix. In der Kovarianzmatrix sind auf der Hauptdiagonalen die Varianzen der in `opt` angegebenen Parameter zu finden. Dazu später mehr.\n",
    "\n",
    "Der Optimierungsfunktion müssen folgende Parameter übergeben werden: `optimize.curve_fit(Funktion, x-Werte, y-Werte,geschätzte Parameter)` <br>\n",
    "Die geschätzten Parameter werden dam Argument als Array mit der Syntax `p0=[guess1,guess2,guess3,...]` übergeben. Werden keine Ausgangsparameter übergeben, startet die Optimierungsfunktion mit dem default-Wert 1 bei allen Parametern.\n",
    "**Wichtig:** Die Reihenfolge der Startparameter muss der Reihenfolgen der übergebenen Parameter der deklarierten Funktion entsprechen:  **def function<u>(x,a,b,c)</u> -> p0=\\[guess_a,guess_b,guess_c]**\n",
    "\n",
    "Fitten Sie nun den Verlauf Ihrer Messdaten unter berücksichtigung Ihrer Paramterschätzungen.\n",
    "\n",
    "\n",
    "**Tipp**: Vergessen Sie nicht den Rückgabewert der Funktion `curve_fit()` in den oben genannten Variablen zu speichern."
   ]
  },
  {
   "cell_type": "code",
   "execution_count": null,
   "metadata": {},
   "outputs": [],
   "source": [
    "# Optimierungsfunktion\n",
    "\n",
    "# hier Code einfügen\n",
    "# ----------\n",
    "\n",
    "\n",
    "\n",
    "\n",
    "# ----------\n",
    "\n",
    "# Überprüfung\n",
    "#print()"
   ]
  },
  {
   "cell_type": "code",
   "execution_count": null,
   "metadata": {},
   "outputs": [],
   "source": [
    "# Code für Hilfestellungen\n",
    "button5 = widgets.Button(description=\"Hilfe anzeigen\");button5.on_click(h_fit);display(button5);hilfe_output = None"
   ]
  },
  {
   "attachments": {},
   "cell_type": "markdown",
   "metadata": {},
   "source": [
    "Mit den durch die Optimierungsfunktion erhaltenen Parametern kann jetzt ein weiterer Plot mit der gefitteten Funktion erstellt werden. Falls die ermittelte Funktion kein Fit der Messwerte ist, müssen Sie die Parameter besser abgeschätzen.\n",
    "\n",
    "Mit [plt.scatter()](https://matplotlib.org/stable/api/_as_gen/matplotlib.pyplot.scatter.html) können Sie zuerst die Messwerte und dann zusätzlich mit [plt.plot()](https://matplotlib.org/stable/api/_as_gen/matplotlib.pyplot.plot.html) die Fit-Funktion darstellen. <br>\n",
    "`plt.scatter(x,y)` benötigt als Parameter die x- und y-Werte der Messung. Zusätzlich kann mit `color=''` die Farbe und mit `s=` die Größe der Messpunkte vorgegeben werden.\n",
    "\n",
    "Bei `plt.plot(x,function(x,y,z))` wird jetzt für die y-Werte die zu Beginn definierte Funktion mit den ermittelten Paramtetern übergeben. Wie Funktionen mit Parametern aufgerufen werden, haben Sie im Einführungs-Notebook gesehen. Es wurde ebenfalls bereits behandelt, wie Sie an einzelne Werte eines Arrays/einer Liste gelangen. Da die Fit-Funktion als Kurve angezeigt werden soll, sollte kein `marker=`-Parameter übergeben werden.\n",
    "\n",
    "**Tipp:** An die erste Stelle eines Arrays gelangt man über: `array[0]`. Bsp.: `array = [1,2,3]` -> `array[0]= 1`\n",
    "\n",
    "Plotten Sie jetzt die Messdaten zusammen mit der Funktion und überprüfen Sie, ob die Optimierungsfunktion die Parameter passend bestimmt hat.<br>"
   ]
  },
  {
   "attachments": {},
   "cell_type": "markdown",
   "metadata": {},
   "source": [
    "Der Plot kann hier auch für das Einfügen in den Versuchsbericht aufbereitet und exportiert werden (**sollte vorerst übersprungen werden**). Diese Zelle **soll** vorerst links am Rand durch klicken auf den Balken verkleinert werden.<br>\n",
    "\n",
    "Das Wichtigste ist zunächst die Achsenbeschriftung. Diese kann mit den Funktionen [plt.xlabel(\"Beschriftung x-Achse\")](https://matplotlib.org/stable/api/_as_gen/matplotlib.pyplot.xlabel.html) und [plt.ylabel(\"Beschriftung y-Achse\")](https://matplotlib.org/stable/api/_as_gen/matplotlib.pyplot.ylabel.html) hinzugefügt werden. Für die Darstellung von mathematischen Ausdrücken nutzt *matplotlib* eine ähnliche Grammatik wie LaTeX. Die Formelblöcke werden mit `r\"$$\"`abgegrenzt. Innerhalb der Dollarzeichen `$$` kann LaTeX Code genutzt werden. So wird aus `r\"$\\frac{m}{s^2}$\"` in *matplotlib* $\\frac{m}{s^2}$. Mehr dazu finden Sie hier: [mathtext](https://matplotlib.org/stable/tutorials/text/mathtext.html).<br>\n",
    "\n",
    "Damit nichts abgeschnitten wird, muss die Funktion [plt.tight_layout()](https://matplotlib.org/stable/api/_as_gen/matplotlib.pyplot.tight_layout.html) **am Ende** des *stylings* hinzugefügt werden.\n",
    "\n",
    "Die Abbildung kann dann abschließend mit [plt.savefig(\"Name.png\")](https://matplotlib.org/stable/api/_as_gen/matplotlib.pyplot.savefig.html) gespeichert werden. Die Datei wird im selben Verzeichnis erstellt.\n",
    "\n",
    "Weitere wichtige Funktionen:\n",
    "- [plt.legend(\"position\")](https://matplotlib.org/stable/api/_as_gen/matplotlib.pyplot.legend.html): Fügt eine Legende an der angegebenen Position ein. *string* könnten sein: best, upper right, center left, etc.<br>\n",
    "- [plt.xlim(x1,x2)](https://matplotlib.org/stable/api/_as_gen/matplotlib.pyplot.xlim.html): Legt den Bereich der x-Achse fest. Übergeben wird der Bereich mit x1,x2.<br>\n",
    "- [plt.ylim(y1,y2)](https://matplotlib.org/stable/api/_as_gen/matplotlib.pyplot.ylim.html): Analog zu `xlim`.<br>\n",
    "- [plt.title(\"Titel\")](https://matplotlib.org/stable/api/_as_gen/matplotlib.pyplot.title.html): Fügt einen Titel ein. Der gewünschte Titel wird als *string* übergeben.<br>\n",
    "- [plt.text(x,y,\"Text\",color=\"\",fontsize=)](https://matplotlib.org/stable/api/_as_gen/matplotlib.pyplot.text.html): Fügt einen Text an dem Punkt (x,y) in das Diagramm ein. Übergeben wird die Position als *float* und der Text als *string*.<br>\n",
    "- [plt.grid()](https://matplotlib.org/stable/api/_as_gen/matplotlib.pyplot.grid.html): Zeigt das Gitternetz an.<br>\n",
    "- [plt.xticks()](https://matplotlib.org/stable/api/_as_gen/matplotlib.pyplot.xticks.html): Hier können die Ticks der x-Achse explizit angepasst werden. Analog `yticks()` für die y-Achse.<br>"
   ]
  },
  {
   "cell_type": "code",
   "execution_count": null,
   "metadata": {},
   "outputs": [],
   "source": [
    "# Plot mit optimierter Funktion\n",
    "\n",
    "# hier Code einfügen\n",
    "# ----------\n",
    "\n",
    "\n",
    "\n",
    "\n",
    "# ----------"
   ]
  },
  {
   "cell_type": "code",
   "execution_count": null,
   "metadata": {},
   "outputs": [],
   "source": [
    "# Code für Hilfestellungen\n",
    "button6 = widgets.Button(description=\"Hilfe anzeigen\");button6.on_click(h_plot_function);display(button6);hilfe_output = None"
   ]
  },
  {
   "attachments": {},
   "cell_type": "markdown",
   "metadata": {},
   "source": [
    "Wenn eine passende Funktion gefunden wurde, kann jetzt mit der Kovarianzmatrix `cov` die Unsicherheit auf die optimierten Parameter bestimmt werden. Wie oben bereits beschrieben gibt die **Hauptdiagonale der Kovarianzmatrix die Varianzen $\\sigma^2$ unserer Parameter an**. Die Unsicherheit erhalten Sie also mit der Wurzel der Varianz: $u=\\sigma=\\sqrt{\\sigma^2}$.\n",
    "\n",
    "Berechnen Sie nun die Unsicherheit für alle Parameter und speichern diese in einem Array.\n",
    "\n",
    "**Tipp**: numpy bietet die Funktion [np.sqrt()](https://numpy.org/doc/stable/reference/generated/numpy.sqrt.html) zur Berechnung einer Wurzel und zusätzlich die Funktion [np.diag()](https://numpy.org/doc/stable/reference/generated/numpy.diag.html) zur Bestimmung der Hauptdiagonalen eines Arrays. `np.diag()` gibt ein eindimensionales Array mit den Werten der Diagonalen zurück.\n",
    "\n",
    "**Wichtig:** Die ermittelten Unsicherheiten müssen in einem neuen Array gespeichert werden. D.h. `neues_array = ...`"
   ]
  },
  {
   "cell_type": "code",
   "execution_count": null,
   "metadata": {},
   "outputs": [],
   "source": [
    "# Unsicherheit auf ermittelte Parameter\n",
    "\n",
    "# hier Code einfügen\n",
    "# ----------\n",
    "\n",
    "\n",
    "# ----------\n",
    "\n",
    "# Überprüfung \n",
    "#print()"
   ]
  },
  {
   "attachments": {},
   "cell_type": "markdown",
   "metadata": {},
   "source": [
    "Mit dem Paket uncertainties können jetzt die Parameter und die dazugehörigen Unsicherheiten in einer Variable gespeichert werden. Bei Berechnungen mit der neuen Variable werden automatisch auch die Unsicherheiten berechnet. Dies beinhaltet auch die Fehlerfortpflanzung bei mehreren fehlerbehafteten Größen. \n",
    "\n",
    "Zuerst müssen dafür wieder alle benötigten Pakete installiert werden. Importieren Sie aus dem Paket *uncertainties* das Modul *ufloat*. Importieren Sie dann aus dem Modul *uncertainties.umath* alle Funktionen (*). Abschließend müssen Sie noch aus dem Paket *uncertainties* das Modul *unumpy* als *unp* importieren. \n",
    "\n",
    "**Tipp:**"
   ]
  },
  {
   "cell_type": "code",
   "execution_count": null,
   "metadata": {},
   "outputs": [],
   "source": [
    "# import Funktionen aus uncertainties \n",
    "\n",
    "# hier Code einfügen\n",
    "# ----------\n",
    "\n",
    "\n",
    "# ----------"
   ]
  },
  {
   "attachments": {},
   "cell_type": "markdown",
   "metadata": {},
   "source": [
    "Das Paket [uncertainties](https://pythonhosted.org/uncertainties/user_guide.html) bietet mit der Funktion `ufloat(Beswert, Unsicherheit)` eine Möglichkeit, ein Tupel aus Bestwert und Unsicherheit in einer Variable der Form $Bestwert \\pm Unsicherheit$ zu speichern. Die Code-Zeile könnte dann so aussehen: `länge = ufloat(1.005, 0.512)` mit dem Ergebnis von `print(länge)`: $1.0 \\pm 0.5$. Wie man an dem Beispiel erkennt, werden bei der Ausgabe Bestwert und Unsicherheit direkt auf die signifikanten Stellen gerundet.<br>\n",
    "Rechnet Sie nun mit diesen Variablen weiter rechnen, wird durch *uncertainties* automatisch unter Berücksichtigung der Gauß'schen Fehlerfortpflanzung die Unsicherheit bestimmt. Wie mit *ufloats* gerechnet wird, werden Sie später noch näher kennenlernen.\n",
    "\n",
    "Speichern Sie jetzt jeden Parameter zusammen mit der dazugehörigen Unsicherheiten in einer *ufloat*-Variable ab.\n",
    "\n",
    "**Tipp**: Hier müssen Sie wieder einzelne Elemente aus einem Array auslesen."
   ]
  },
  {
   "cell_type": "code",
   "execution_count": null,
   "metadata": {},
   "outputs": [],
   "source": [
    "# Speichern der Parameter als ufloat\n",
    "\n",
    "# hier Code einfügen\n",
    "# ----------\n",
    "\n",
    "\n",
    "# ----------\n",
    "\n",
    "\n",
    "# Überprüfung \n",
    "#print()\n"
   ]
  },
  {
   "attachments": {},
   "cell_type": "markdown",
   "metadata": {},
   "source": [
    "Jetzt haben Sie für eine Ihrer Messungen die unbekannten Parameter Kreisfrequenz $\\omega$, Amplitude $\\hat{a}$ und Phasenverschiebung $\\phi$ der Funktion $a(t)=-\\hat{a}\\cdot cos(\\omega \\cdot t+\\phi)$ bestimmt. Im nächsten Teil werden Sie bei den Messungen mit unterschiedlichen Massen ebenfalls die Parameter ermitteln und anschließend über die Massen und Kreisfrequenzen die Federkonstante bestimmen."
   ]
  },
  {
   "attachments": {},
   "cell_type": "markdown",
   "metadata": {},
   "source": [
    "# 3 Auswertung der Messungen bei veränderter Masse\n",
    "\n",
    "In diesem Teil werden die Parameter der restlichen Messungen bestimmt. Erzeugen Sie hierfür eigene Code-Zellen unterhalb dieser Markdown-Zelle und bestimmen die Parameter $\\omega$, $\\hat{a}$ und $\\phi$ für die fehlenden Messungen. Speichern Sie die Parameter dann wieder zusammen mit Ihren Unsicherheiten in *ufloat*-Variablen.\n",
    "\n",
    "Führen Sie jetzt selbstständig alle Auswertungsschritte für die restlichen Messungen aus. Wiederholen Sie dafür die bereits durchgeführte Auswertung der 1. Messung in neuen Code-Zellen.\n",
    "\n",
    "**Tipps**:\n",
    "- Nutzen Sie den Code der ersten Auswertung und ändern Sie die Namen der Variablen passend: `a_y` -> `a_y2` -> `a_y3`. <br>\n",
    "- Wenn Sie die selben Varibalen verwenden, müssen Sie darauf achten, dass die Code-Zellen in chronologischer Reihenfolge ausgeführt werden, da sonst Daten zwischen einzelnen Schritten überschrieben werden könnten. Hier hilft Ihnen `Run All` oben in der Menüleiste.<br>\n",
    "- Es müssen keine imports wiederholt und auch keine Funktionen neu definiert werden.\n",
    "- Alle Auswertungsschritte können auch in einer einzigen Zelle durchgeführt werden. Dabei sollte jedoch die Nachvollziehbarkeit im Vordergrund stehen. Kommentieren Sie einzelne Abschnitte mit `#Kommentar`, um die Übersicht zu behalten.<br>\n",
    "- Die einzelnen Messungen unterscheiden sich. Die Parameterschätzungen müssen gegebenenfalls angepasst werden.\n",
    "- Mit [plt.subplot(ZeilenSpaltenNummer)](https://matplotlib.org/stable/api/_as_gen/matplotlib.pyplot.subplot.html) können mehrere Diagramme geplotten werden. Ein Beispiel dafür finden Sie im [Anhang](#anhang).\n",
    "\n"
   ]
  },
  {
   "cell_type": "code",
   "execution_count": null,
   "metadata": {},
   "outputs": [],
   "source": [
    "# Hier 2. Messung"
   ]
  },
  {
   "cell_type": "markdown",
   "metadata": {},
   "source": [
    "---"
   ]
  },
  {
   "attachments": {},
   "cell_type": "markdown",
   "metadata": {},
   "source": [
    "# 4 Bestimmung der Federkonstante \n",
    "\n",
    "Die Federkonstante kann durch den Zusammenhang $\\omega=\\sqrt{\\frac{D}{m}}$ bestimmt werden. *D* ist die gesuchte Federkonstante und *m* die Masse, die an der Feder hängt. Die einfachste Möglichkeit die Federkonstante *D* zu bestimmen, ist mit Hilfe einer linearen Funktion. Es können die bekannten Größen so umgerechnet werden, dass die Federkonstante *D* der Steigung der linearen Funktion entspricht. Das Prozedere wird *Linearisierung* genannt. \n",
    "\n",
    "Linearisieren Sie die Funktion $\\omega=\\sqrt{\\frac{D}{m}}$ so, dass sie der Form einer linearen Gleichung $y = D * x$ entspricht. \n",
    "\n",
    "\n",
    "Sie sollten Ihre Massen und Kreisfrequenzen zusammen mit Ihren Unsicherheiten in Arrays speichern, damit nicht jeder Wert einzeln umgerechnet werden muss. Da das Paket *uncertainties* die Berechnung der Unsicherheiten übernimmt, sollten diese Arrays aus *ufloats* bestehen. <br> \n",
    "Es gibt zwei Möglichkeiten *ufloats* in einem Array zu speichern:\n",
    "1. Die Zahl liegt bereits als *ufloat* vor (bei uns die Kreisfrequenzen): `name = np.array([ufloat1,ufloat2,...])`\n",
    "2. Es liegen Bestwert und Unsicherheit als einzelne Arrays vor: `name = unp.uarray(liste_bestwert,liste_unsicherheit)`\n",
    "\n",
    "Mehr dazu finden Sie hier: [Uncertainties in arrays](https://pythonhosted.org/uncertainties/numpy_guide.html)\n",
    "\n",
    "Speichern Sie nun die ermittelten Kreisfrequenzen mit ihren Unsicherheiten in einem *ufloat*-Array."
   ]
  },
  {
   "cell_type": "code",
   "execution_count": null,
   "metadata": {},
   "outputs": [],
   "source": [
    "# Kreisfrequenzen in *ufloat*-Array\n",
    "\n",
    "# hier Code einfügen\n",
    "# ----------\n",
    "\n",
    "\n",
    "\n",
    "# ----------\n",
    "\n",
    "#print()"
   ]
  },
  {
   "cell_type": "markdown",
   "metadata": {},
   "source": [
    "Es müssen zusätzlich noch die einzelnen Massen zusammen mit ihren Unsicherheiten in einem Array gespeichert werden. Definieren Sie zuerst für jede Masse eine eigene Variable. Das Gewicht der Massenstücke ist mit $(0,026\\pm0,006) kg$ angegeben. Berechnen Sie nun für jede Masse die passende Unsicherheit und legen diese in einer zusätzlichen Variable ab. Anschließend sollen zwei Listen, eine mit den Massen und eine mit den Unsicherheiten, erstellt werden. <br> \n",
    "\n",
    "Die Unsicherheit berechnet sich über die Gauß'sche Fehlerfortpflanzung. Stellen Sie die Gleichung der Gauß'schen Fehlerfortpflanzung für die Addition von fehlerbehafteten Größen auf. Die Funktion zur Berechnung der Massen sieht wie folgt aus: \n",
    "\n",
    "Nur Smartphone: $m_{gesamt} = m_s + 0 \\cdot m_{massenstück}$ <br>\n",
    "Smartphone mit einem Massenstück: $m_{gesamt} = m_{smartphone} + 1 \\cdot m_{massenstück}$ <br>\n",
    "Smartphone mit zwei Massenstücken: $m_{gesamt} = m_{smartphone} + 2 \\cdot m_{massenstück}$ <br>\n",
    "... <br>\n",
    "\n",
    "**Tipps:** \n",
    "- Die Berechnung der Unsicherheit mit der Gauß'schen Fehlerfortpflanzung finden Sie in der Praktikumsanleitung unter Versuch *MEDA* Kapitel 1.2.3 *Fortpflanzung der Messabweichung (Gauß’sche Fehlerfortpflanzung)*.\n",
    "- Fragen Sie bei Schwierigkeiten Ihre Versuchsbetreuerin oder Ihren Versuchsbetreuer nach Hilfe. \n",
    "\n",
    "Nutzen Sie die Code-Zelle zur Berechnung der Werte."
   ]
  },
  {
   "cell_type": "markdown",
   "metadata": {},
   "source": [
    "Liegen für die Massen und Unsicherheiten Variablen vor, können Sie diese jetzt jeweils in Listen speichern. Nutzen Sie anschließend die *uarray*-Methode von unumpy, um die beiden Listen (Massen und Unsicherheiten) in einem *uflaot*-Array zu speichern.\n",
    "\n",
    "**Tipp:** Rechnen Sie in SI-Einheiten. Vergessen Sie nicht, dass auch die Messung des Gewichts des Smartphones eine Unsicherheit besitzt.\n",
    "\n",
    "\n",
    "Berechnen Sie nun alle Massen und die dazugehörigen Unsicherheiten. Legen Sie anschließend die Massen mit ihren Unsicherheiten in einem *ufloat*-Array ab."
   ]
  },
  {
   "cell_type": "code",
   "execution_count": null,
   "metadata": {},
   "outputs": [],
   "source": [
    "# Berechnung der Massen und ihre Unsicherheiten und Speicherung in ufloat-Array\n",
    "\n",
    "# hier Code einfügen\n",
    "# ----------\n",
    "\n",
    "# Massen\n",
    "\n",
    "\n",
    "\n",
    "# Unsicherheiten\n",
    "\n",
    "\n",
    "\n",
    "# Speichern in ufloat-Array\n",
    "\n",
    "\n",
    "\n",
    "# ----------\n",
    "\n",
    "# Überprüfung\n",
    "#print()"
   ]
  },
  {
   "cell_type": "code",
   "execution_count": null,
   "metadata": {},
   "outputs": [],
   "source": [
    "# Code für Hilfestellungen\n",
    "button7 = widgets.Button(description=\"Hilfe anzeigen\");button7.on_click(h_u_massen);display(button7);hilfe_output = None"
   ]
  },
  {
   "cell_type": "markdown",
   "metadata": {},
   "source": [
    "Es sollten nun zwei *ufloat*-Arrays mit den Kreisfrequenzen und den Massen vorliegen.<br>\n",
    "Aufgrund der Linearisierung müssen die Kreisfrequenzen und Massen noch umgerechnet werden. Berechnungen auf *ufloat*-Arrays berücksichtigen die Fehlerfortpflanzung.\n",
    "\n",
    "Bestimmen Sie nun die neuen Arrays für die Kreisfrequenz und Masse, sodass die Form $f_1(\\omega) = D * f_2(m)$ gegeben ist. Die beiden neuen Arrays entsprechen $f_1$ und $f_2$."
   ]
  },
  {
   "cell_type": "code",
   "execution_count": null,
   "metadata": {},
   "outputs": [],
   "source": [
    "# Umrechnung passend zur Linearisierung\n",
    "\n",
    "# hier Code einfügen\n",
    "# ----------\n",
    "\n",
    "\n",
    "\n",
    "# ----------\n",
    "\n",
    "# print()"
   ]
  },
  {
   "cell_type": "markdown",
   "metadata": {},
   "source": [
    "Nun können Sie die Ergebnisse grafisch darstellen. Die Auftragung der Bestwerte und der Fehlerbalken geschieht in seperaten Funktionen des Moduls *matplotlib*. Für den Plot benötigen Sie jeweils für die x- und y-Achse ein Array mit den Bestwerten und für die Fehlerbalken die zugehörigen Unsicherheiten. Das Paket *uncertainties* liefert für diesen Zweck die zwei folgenden Funktionen:\n",
    "\n",
    "```py\n",
    "unp.nominal_values(ufloat_array)    # Bestwerte\n",
    "unp.std_devs(ufloat_array)          # Unsicherheiten\n",
    "```\n",
    "\n",
    "Deklarieren Sie nun für die umgerechneten Arrays (Kreisfrequenzen und Massen) jeweils zwei neue Arrays für den Bestwert und die Unsicherheit."
   ]
  },
  {
   "cell_type": "code",
   "execution_count": null,
   "metadata": {},
   "outputs": [],
   "source": [
    "# seperate Speicherung von Bestwert und Unsicherheit\n",
    "\n",
    "# hier Code einfügen\n",
    "# ----------\n",
    "\n",
    "\n",
    "\n",
    "# ----------\n",
    "\n",
    "# print()"
   ]
  },
  {
   "cell_type": "markdown",
   "metadata": {},
   "source": [
    "Den Plot erstellen Sie wie bereits bekannt mit `plt.plot()`. Für die Fehlerbalken bietet *matplotlib* die Funktion [plt.errorbar(x, y, xerr=array, yerr=array, linestyle='')](https://matplotlib.org/stable/api/_as_gen/matplotlib.pyplot.errorbar.html). Der Funktion können ähnliche Argumente wie `plt.plot()` übergeben werden. Dem Argument *xerr* bzw. *yerr* muss das Array der jeweiligen Unsicherheit übergeben werden. Ohne das leere *linestyle*-Argument verbindet die *errorbar*-Funktion die einzelnen Fehlerbalken.\n",
    "\n",
    "Erstellen Sie nun den Plot der linearisierten Messergebnisse mit den dazugehörigen Unsicherheiten. Im nächsten Schritt wird der Verlauf gefittet und so die Steigung bestimmt."
   ]
  },
  {
   "cell_type": "code",
   "execution_count": null,
   "metadata": {},
   "outputs": [],
   "source": [
    "# seperate Speicherung von Bestwert und Unsicherheit\n",
    "\n",
    "# hier Code einfügen\n",
    "# ----------\n",
    "\n",
    "\n",
    "# ----------"
   ]
  },
  {
   "cell_type": "markdown",
   "metadata": {},
   "source": [
    "Zum Fitten der Messdaten können Sie nun wieder die Funktion [optimize.curve_fit()](https://docs.scipy.org/doc/scipy/reference/generated/scipy.optimize.curve_fit.html) des Moduls *scipy* verwenden.\n",
    "\n",
    "- Definieren Sie dafür eine neue Funktion gemäß des Verlaufs ihrer Messdaten und bestimmen anschließend die Steigung und ihre Unsicherheit mit Hilfe der Optimierungs-Funktion von *scipy*. <br>\n",
    "- Speichern Sie das Ergbnis für die Federkonstante zusammen mit ihrer Unsicherheit in eine *ufloat*-Variable. <br> \n",
    "- Plotten Sie anschließend die gefittete Funktion zusammen mit den Datenpunkten und ihren Fehlerbalken.\n",
    "\n",
    "**Tipp:** Vergessen Sie nicht den y-Achsenabschnitt als Parameter in ihrer Funktion."
   ]
  },
  {
   "cell_type": "code",
   "execution_count": null,
   "metadata": {},
   "outputs": [],
   "source": [
    "# Definition der Funktion\n",
    "# hier Code einfügen\n",
    "# ----------\n",
    "\n",
    "\n",
    "\n",
    "# ----------"
   ]
  },
  {
   "cell_type": "code",
   "execution_count": null,
   "metadata": {},
   "outputs": [],
   "source": [
    "# Optimierungsfunktion\n",
    "\n",
    "# hier Code einfügen\n",
    "# ----------\n",
    "\n",
    "\n",
    "\n",
    "# ----------\n",
    "\n",
    "#print()"
   ]
  },
  {
   "cell_type": "code",
   "execution_count": null,
   "metadata": {},
   "outputs": [],
   "source": [
    "# Plot der Fit-Funktion mit Datenpunkten und zugehörigen Fehlerbalken\n",
    "\n",
    "# hier Code einfügen\n",
    "# ----------\n",
    "\n",
    "\n",
    "\n",
    "# ----------"
   ]
  },
  {
   "cell_type": "markdown",
   "metadata": {},
   "source": [
    "Ihnen sollte aufgefallen sein, dass der Optimierungsfunktion keine Unsicherheiten übergeben wurden. Es ist möglich der Optimierungsfunktion mit dem Argument `sigma=array` die Unsicherheit in y-Richtung zu übergeben, jedoch nicht in x-Richtung. Sind wie in unserem Fall die x- und y-Werte fehlerbehaftete Größen, muss eine andere Fit-Funktion verwendet werden. Dafür eignet sich das Verfahren *Orthogonal Distance Regression* (ODR). Bei diesem Verfahren kann die Unsicherheit in x- und y-Richtung berücksichtigt werden. Das Paket *scipy* bietet hierfür das Modul *odr*. \n",
    "\n",
    "Importieren Sie aus *scipy.odr* die Funktionen *ODR*, *Model* und *RealData*."
   ]
  },
  {
   "cell_type": "code",
   "execution_count": null,
   "metadata": {},
   "outputs": [],
   "source": [
    "# Import von scipy-Funktionen\n",
    "\n",
    "# hier Code einfügen\n",
    "# ----------\n",
    "\n",
    "\n",
    "\n",
    "# ----------"
   ]
  },
  {
   "cell_type": "markdown",
   "metadata": {},
   "source": [
    "Für die Verwendung von *odr* muss zu Beginn eine neue Funktion definiert werden. *odr* erwartet eine Liste der unbekannten Parameter. Das heißt die Paramter der neuen Funktion sind jetzt *beta* (Liste der unbekannten Parameter: Steigung und Y-Achsenabschnitt) und *x* (bekannte x-Werte). Innerhalb der Funktion wird die Steigung als `beta[0]` und der Y-Achsenabschnitt als `beta[1]` ersetzt. Der Rückgabewert sowie *x* bleiben gleich. \n",
    "\n",
    "Definieren Sie nun eine neue Funktion anhand des Verlaufs der Datenpunkte.\n",
    "\n",
    "**Tipp:** Orientieren Sie sich an der bereits definierten Funktion und ändern nur die unbekannten Parameter."
   ]
  },
  {
   "cell_type": "code",
   "execution_count": null,
   "metadata": {},
   "outputs": [],
   "source": [
    "# Definition der Funktion mit Liste als Parameter\n",
    "\n",
    "# hier Code einfügen\n",
    "# ----------\n",
    "\n",
    "\n",
    "\n",
    "# ----------"
   ]
  },
  {
   "cell_type": "code",
   "execution_count": null,
   "metadata": {},
   "outputs": [],
   "source": [
    "# Code für Hilfestellungen\n",
    "button8 = widgets.Button(description=\"Hilfe anzeigen\");button8.on_click(h_odr_func);display(button8);hilfe_output = None"
   ]
  },
  {
   "cell_type": "markdown",
   "metadata": {},
   "source": [
    "Die Verwendung von *odr* ist vergleichsweise kompliziert und kann hier nachgelesen werden: [Orthogonal distance regression (scipy.odr)](https://docs.scipy.org/doc/scipy/reference/odr.html). <br>\n",
    "\n",
    "Folgen Sie den Schritten der Dokumentation ab *Basic usage*.\n"
   ]
  },
  {
   "cell_type": "code",
   "execution_count": null,
   "metadata": {},
   "outputs": [],
   "source": [
    "# ODR\n",
    "\n",
    "# hier Code einfügen\n",
    "# ----------\n",
    "\n",
    "\n",
    "\n",
    "# ----------\n"
   ]
  },
  {
   "cell_type": "code",
   "execution_count": null,
   "metadata": {},
   "outputs": [],
   "source": [
    "# Code für Hilfestellungen\n",
    "button9 = widgets.Button(description=\"Hilfe anzeigen\");button9.on_click(h_odr);display(button9);hilfe_output = None"
   ]
  },
  {
   "cell_type": "markdown",
   "metadata": {},
   "source": [
    "Mit den Methoden `myoutput.beta` und `myoutput.sd_beta` erhalten Sie den Bestwert und die Unsicherheit der beiden unbekannten Parameter. Speichern Sie nun das Ergebnis für die Federkonstante zusammen mit ihrer Unsicherheit in eine *ufloat*-Variable."
   ]
  },
  {
   "cell_type": "code",
   "execution_count": null,
   "metadata": {},
   "outputs": [],
   "source": [
    "# Ergebnis in ufloat\n",
    "\n",
    "# hier Code einfügen\n",
    "# ----------\n",
    "\n",
    "\n",
    "\n",
    "# ----------\n",
    "\n",
    "#print()"
   ]
  },
  {
   "cell_type": "markdown",
   "metadata": {},
   "source": [
    "Zum Vergleich beider Methoden können Sie jetzt die neue Funktion, welche die mit *ODR* bestimmten Parameter beinhaltet, dem Plot mit der Optimierungsfunktion hinzufügen. Kopieren Sie dazu einfach die Zeilen für die Plots der Datenpunkte, Fehlerbalken und Optimierungsfunktion und ergänzen diese mit einem weiteren Plot für die *ODR*-Funktion.\n",
    "\n",
    "Erstellen Sie nun den abschließenden Plot mit Messdaten, Fehlerbalken und beiden Fit-Funktionen.\n",
    "\n",
    "**Tipps:**\n",
    "- Mit dem Argument `color=\"\"` können die Farben der Plots angepasst werden.\n",
    "- Mit dem Argument `label=\"\"` kann den Plots der Funktionen eine Bezeichnung gegeben werden und anschließend mit `plt.legend()` eine Legende hinzugefügt werden."
   ]
  },
  {
   "cell_type": "code",
   "execution_count": null,
   "metadata": {},
   "outputs": [],
   "source": [
    "# Plot beider Funktionen und Datenpunkte mit Fehlerbalken \n",
    "\n",
    "# hier Code einfügen\n",
    "# ----------\n",
    "\n",
    "\n",
    "\n",
    "# ----------\n"
   ]
  },
  {
   "cell_type": "markdown",
   "metadata": {},
   "source": [
    "Sie können abschließend die beiden Ergebnisse für die Federkonstante vergleichen."
   ]
  },
  {
   "cell_type": "code",
   "execution_count": null,
   "metadata": {},
   "outputs": [],
   "source": [
    "# Vergleich Ergebnisse\n",
    "\n",
    "# hier Code einfügen\n",
    "# ----------\n",
    "#print()\n",
    "# ----------"
   ]
  },
  {
   "attachments": {},
   "cell_type": "markdown",
   "metadata": {},
   "source": [
    "---"
   ]
  },
  {
   "attachments": {},
   "cell_type": "markdown",
   "metadata": {},
   "source": [
    "# Anhang"
   ]
  },
  {
   "attachments": {},
   "cell_type": "markdown",
   "metadata": {},
   "source": [
    "Subplots erstellen:\n",
    "\n",
    "```py\n",
    "plt.rcParams[\"figure.figsize\"] = (30,15)  # Anpassen der Größe damit alle Diagramme groß genug angezeigt werden\n",
    "\n",
    "plt.subplot(221)\n",
    "# Code für Plot 1\n",
    "plt.subplot(222)\n",
    "# Code für Plot 2\n",
    "plt.subplot(223)\n",
    "# Code für Plot 3\n",
    "#...\n",
    "plt.show() # wird zum Anzeigen benötigt\n",
    "\n",
    "plt.rcParams[\"figure.figsize\"] = plt.rcParamsDefault[\"figure.figsize\"] # Zurücksetzen der Größe damit nicht alle einzelnen Diagramme zu groß sind\n",
    "```"
   ]
  }
 ],
 "metadata": {
  "kernelspec": {
   "display_name": "base",
   "language": "python",
   "name": "python3"
  },
  "language_info": {
   "codemirror_mode": {
    "name": "ipython",
    "version": 3
   },
   "file_extension": ".py",
   "mimetype": "text/x-python",
   "name": "python",
   "nbconvert_exporter": "python",
   "pygments_lexer": "ipython3",
   "version": "3.10.9"
  },
  "orig_nbformat": 4
 },
 "nbformat": 4,
 "nbformat_minor": 2
}
