{
 "cells": [
  {
   "attachments": {},
   "cell_type": "markdown",
   "metadata": {},
   "source": [
    "# Einführung in Python\n",
    "\n",
    "Dieses Notebook dient als Vorbereitung auf den Versuch *Datenauswertung mit Python* (PY). Die Bearbeitung dieses Notebooks **wird zu Beginn** des Versuchs **kontrolliert**. Eine Durchführung des Versuchs ohne vorangehende Bearbeitung dieses Notebooks ist **nicht** möglich.\n",
    "\n",
    "In diesem Notebook lernen Sie **Python-Programme** zu **verstehen**, mit **Variablen**, **Datenstrukturen** und **Funktionen umzugehen** und **externe Module** zu **verwenden**.\n",
    "\n",
    "Das Notebook ist so aufgebaut, dass zuerst neues Wissen in einer Text-Zelle eingeführt und dann in einer Code-Zelle beispielhaft dargestellt wird. Anschließend sollen Sie das Gelernte in einer weiteren Code-Zelle anhand einer Aufgabe anwenden. \n",
    "\n",
    "Dieses Notebook orientiert sich an dem Buch *[Mit Jupyter durchs Physikpraktikum](https://link.springer.com/book/10.1007/978-3-658-37723-6)* von Lew Classen (2022).\n",
    "\n",
    "Kontrollieren Sie zu Beginn, ob der richtige Kernel ausgewählt wurde (oben rechts). Dort steht entweder *Select Kernel* oder etwas in der Form *base (Python 3.XX.X)*. Steht bei Ihnen *Select Kernel*, schauen Sie in der Praktikumsanleitung im Abschnitt Versuchsvorbereitung nach, wie Sie den richtigen Kernal auswählen.\n"
   ]
  },
  {
   "cell_type": "markdown",
   "metadata": {},
   "source": [
    "## Inhaltsverzeichnis\n",
    "\n",
    "- 1 [Jupyter-Notebooks](#1-jupyter-notebooks)<br>\n",
    "- 2 [Grundlagen von Python](#2-grundlagen-von-python)<br>\n",
    "    - 2.1 [Variablen und ihre Datentypen](#2.1-variablen-und-ihre-datentypen)\n",
    "    - 2.2 [Operatoren](#22-operatoren)\n",
    "        - Aufgabe 1\n",
    "    - 2.3 [Listen](#23-listen)\n",
    "        - Aufgabe 2\n",
    "    - 2.4 [Funktionen](#24-funktionen)\n",
    "        - Aufgabe 3\n",
    "        - Aufgabe 4\n",
    "- 3 [Module: Rechnen mit Python (numpy)](#3-module-rechnen-mit-python-numpy)\n",
    "    - Aufgabe 5\n",
    "    - Aufgabe 6\n",
    "- 4 [Funktionen für die Datenauswertung](#4-funktionen-für-die-datenauswertung)\n",
    "    - 4.1 [Einlesen von Messdaten](#41-einlesen-von-messdaten)\n",
    "        - Aufgabe 7\n",
    "    - 4.2 [Darstellung als Plot](#42-darstellung-als-plot)\n",
    "        - Aufgabe 8\n",
    "- 5 [Abschluss](#4-abschluss)"
   ]
  },
  {
   "cell_type": "markdown",
   "metadata": {},
   "source": [
    "# 1 Jupyter-Notebooks\n",
    "\n",
    "Jupyter-Notebooks bieten eine interaktive Entwicklungsumgebung zur Programmierung, Datenanalyse und Datenvisualisierung. Die Notebooks bestehen aus Text- und Code-Zellen. \n",
    "\n",
    "Die Text-Zellen (wie diese Zelle) beinhalten *Markdown*. *Markdown* ist eine vereinfachte Auszeichnungssprache, die eine einfache Möglichkeit bietet, strukturierten Text mit Formeln (*LaTeX*), Code- und HTML-Elementen zu verbinden. Sie können sich den Quelltext dieser Zelle mit einem Doppelklick auf diese Zelle oder `Enter` anzeigen lassen und bearbeiten. Zur Übersetzung der Zelle können Sie entweder auf das ✓-Symbol oben rechts an der Ecke der Zelle klicken oder die Tastenkombination `Strg`+`Alt`+`Enter` (`Control`+`Enter` bie *macOS*) verwenden. Für das Schreiben in Markdown kann Ihnen das *[Cheat Sheet](https://www.markdownguide.org/cheat-sheet/)* helfen.\n",
    "\n",
    "Indem Sie mit der Maus über das untere oder obere Ende der Zelle schweben, wird eine Option zum Einfügen von Text- sowie Code-Zellen angezeigt. Das Einfügen von Zellen wird im weiteren Verlauf wichtig. Zellen können über das 🗑-Symbol in der Menüleiste jeder Zelle (rechte obere Ecke der Zelle) gelöscht werden.\n",
    "\n",
    "In den Code-Zellen wird abhängig von der gewählten Programmiersprache (hier Python) der Code übersetzt und ausgeführt. Code-Zellen lassen sich mit dem ▶-Symbol oben links neben Zelle oder der Tastenkombination `Strg`+`Alt`+`Enter` (`Control`+`Enter` bie *macOS*) ausführen. Das Symbol wird nur angezeigt, wenn die Zelle ausgewählt ist oder die Maus darüber schwebt. Die Ausgabe des Codes wird unterhalb der Zelle angezeigt.\n",
    "\n",
    "Über die Menüleiste am oberen Rand des Fensters können ebenfalls Code- und Text-Zellen eingefügt werden. In der Menüleiste gibt es zusätzlich noch weitere sinnvolle Funktionen. Mit *Run All* werden alle Zellen des Notebooks nacheinander ausgeführt. Mit *Restart* wird die Python-Entwicklungsumgebung (der Kernel) neugestartet. Mit *Clear All Outputs* werden alle Ausgaben der Code-Zellen ausgeblendet. *Variables* ist ein Werkzeug zur Überprüfung der aktuellen Werte und Typen aller Variablen des Notebooks und *Outline* zeigt Ihnen eine Art Inhaltsverzeichnis im Explorer (links) an."
   ]
  },
  {
   "cell_type": "markdown",
   "metadata": {},
   "source": [
    "# 2 Grundlagen von Python\n",
    "\n",
    "## 2.1 Variablen und ihre Datentypen\n",
    "\n",
    "In Python können einfache Berechnungen direkt und ohne Variablen durchgeführt werden. Dabei wird der Code Zeile für Zeile ausgeführt.\n",
    "\n",
    "Führen Sie die folgenden Code-Zellen immer aus, damit die Ausgabe sichtbar wird. Sie können auch mit *Run all* alle Code-Zellen auf einmal ausführen.\n",
    "\n",
    "**Wichtig:** Versuchen Sie in allen Beispielen den Code nachzuvollziehen. Sie werden im Datenauswertungs-Notebook die Beispiele für die Erstellung Ihres eigenen Codes brauchen."
   ]
  },
  {
   "cell_type": "code",
   "execution_count": 2,
   "metadata": {},
   "outputs": [
    {
     "data": {
      "text/plain": [
       "3"
      ]
     },
     "execution_count": 2,
     "metadata": {},
     "output_type": "execute_result"
    }
   ],
   "source": [
    "1 + 2\n"
   ]
  },
  {
   "cell_type": "markdown",
   "metadata": {},
   "source": [
    "Möchte Sie jetzt mit dem Ergebnis weiterarbeiten, ohne jedes Mal die Zahlen neu eintippen zu müssen, lohnt sich die Verwendung von Variablen. So kann einer Variable (hier *x*) mit dem Gleichzeichen der Wert 3 zugewiesen werden. Variablennamen dürfen nicht mit einer Zahl beginnen und keine Sonderzeichen, außer _, enthalten. In der Regel beginnen Variablen mit einem kleinen Buchstaben.\n",
    "\n",
    "\n",
    "Beispile für Variablennamen sind:\n",
    "- x\n",
    "- test_1\n",
    "- spannung\n",
    "- x_Test\n",
    " \n",
    "\n",
    "**Vorsicht:** Bei uneindeutigen Variablennamen steigt das Riskio Variablen ausversehen zu überschreiben.\n",
    "\n",
    "Kommentare (mit # gekennzeichnet) werden bei der Übersetzung ignoriert und können bei der Beschreibung und Lesbarkeit des Codes helfen. Sie sollten bei längerem, unübersichtlichem Code dringend verwendet werden."
   ]
  },
  {
   "cell_type": "code",
   "execution_count": 3,
   "metadata": {},
   "outputs": [
    {
     "data": {
      "text/plain": [
       "3"
      ]
     },
     "execution_count": 3,
     "metadata": {},
     "output_type": "execute_result"
    }
   ],
   "source": [
    "x = 3   # Deklaration einer Variable\n",
    "\n",
    "x       # Ausgabe der Variable"
   ]
  },
  {
   "cell_type": "markdown",
   "metadata": {},
   "source": [
    "Variablen werden für das gesamte Notebook deklariert und können danach in jeder Code-Zelle verwendet werden."
   ]
  },
  {
   "cell_type": "code",
   "execution_count": 4,
   "metadata": {},
   "outputs": [
    {
     "data": {
      "text/plain": [
       "3"
      ]
     },
     "execution_count": 4,
     "metadata": {},
     "output_type": "execute_result"
    }
   ],
   "source": [
    "x"
   ]
  },
  {
   "cell_type": "markdown",
   "metadata": {},
   "source": [
    "In Python wird immer nur die letzte Variable ohne weiteres ausgegeben. Möchte man nun mehrere Variablen ausgegeben bekommen, wird die Funktion `print()` verwendet. `print()` ist eine eigene Funktion von Python, die den Inhalt, der ihr übergeben wird, in die Ausgabe *druckt*. Im folgenden Beispiel werden jeweils die Variablen als Inhalt übergeben. Der Funktion können auch mehrere Argumente auf einmal übergeben werden. Diese müssen mit einem Komma getrennt werden.\n",
    "\n",
    "**Hinweis:** Mit letzter Variable ist die Variable gemeint, die am Ende des Codes (also als letztes) ausgeführt wird."
   ]
  },
  {
   "cell_type": "code",
   "execution_count": 5,
   "metadata": {},
   "outputs": [
    {
     "name": "stdout",
     "output_type": "stream",
     "text": [
      "3\n",
      "4\n",
      "3 Test\n"
     ]
    },
    {
     "data": {
      "text/plain": [
       "4"
      ]
     },
     "execution_count": 5,
     "metadata": {},
     "output_type": "execute_result"
    }
   ],
   "source": [
    "x = 3\n",
    "y = 4\n",
    "\n",
    "print(x)\n",
    "print(y)\n",
    "y       # wird nicht ausgegeben, da noch Code folgt\n",
    "\n",
    "print(x, \"Test\")\n",
    "\n",
    "x\n",
    "y      # wird ausgegeben, da kein Code mehr folgt"
   ]
  },
  {
   "cell_type": "markdown",
   "metadata": {},
   "source": [
    "Neben ganzen Zahlen können auch Fließkommazahlen, Zeichenketten und Wahrheitswerte gespeichert werden. Diese Formen von Daten nennt man Typen. In Python gibt es noch einige weitere Datentypen. Diese können Sie hier finden: [Built-in Types](https://docs.python.org/3.10/library/stdtypes.html)\n",
    "\n",
    "Mit der Funktion `type()` kann der Datentyp einer Variable bestimmt werden.\n",
    "\n",
    "**Hinweis:** In Python werden **Punkte** als Dezimalzeichen verwendet, **keine** Kommata!"
   ]
  },
  {
   "cell_type": "code",
   "execution_count": 6,
   "metadata": {},
   "outputs": [
    {
     "name": "stdout",
     "output_type": "stream",
     "text": [
      "1 <class 'int'>\n",
      "0.12 <class 'float'>\n",
      "Hello World! <class 'str'>\n",
      "True <class 'bool'>\n",
      "[1, 2] <class 'list'>\n"
     ]
    }
   ],
   "source": [
    "# ganze Zahlen (integer/int)\n",
    "int = 1\n",
    "print(int, type(int))\n",
    "\n",
    "# Fließkommazahlen (float)\n",
    "float = 0.12\n",
    "print(float, type(float))\n",
    "\n",
    "# Zeichenketten (string/str)\n",
    "string = \"Hello World!\"\n",
    "print(string, type(string))\n",
    "\n",
    "# Wahrheitsvariable (bool)\n",
    "bool = True\n",
    "print(bool, type(bool))\n",
    "\n",
    "# Liste (list)\n",
    "list = [1, 2]\n",
    "print(list, type(list))"
   ]
  },
  {
   "cell_type": "markdown",
   "metadata": {},
   "source": [
    "Python ist dynamisch typisiert, das heißt es muss nicht bei der Deklaration angegeben werden, welchen Datentyp die Variable enthält. Dies passiert erst bei der Zuweisung. Die Datentypen haben jeweils bestimmte Operatoren und Funktionen, die beim Umgang mit der Variable verwendet werden können. Wichtig zu verstehen ist hier, dass bei verschiedenen Datentypen nicht alle Operatoren gleich verwendet werden können. Es ist z. B. nicht ohne Weiteres möglich, einen *string* mit einem *integer* zu addieren. *integer*- und *float*-Variablen können jedoch mit mathematischen Operatoren verrechnet werden."
   ]
  },
  {
   "cell_type": "code",
   "execution_count": 7,
   "metadata": {},
   "outputs": [
    {
     "name": "stdout",
     "output_type": "stream",
     "text": [
      "1.12 <class 'float'>\n"
     ]
    },
    {
     "ename": "TypeError",
     "evalue": "can only concatenate str (not \"int\") to str",
     "output_type": "error",
     "traceback": [
      "\u001b[1;31m---------------------------------------------------------------------------\u001b[0m",
      "\u001b[1;31mTypeError\u001b[0m                                 Traceback (most recent call last)",
      "\u001b[1;32mPraktikum\\Praktikum\\Versuche\\PYT\\Einführung_in_Python_Musterlösung_V4.ipynb Cell 15\u001b[0m line \u001b[0;36m6\n\u001b[0;32m      <a href='vscode-notebook-cell://134.61.2.6/Praktikum/Praktikum/Versuche/PYT/Einf%C3%BChrung_in_Python_Musterl%C3%B6sung_V4.ipynb#X20sZmlsZQ%3D%3D?line=0'>1</a>\u001b[0m test_int_float \u001b[39m=\u001b[39m \u001b[39mint\u001b[39m \u001b[39m+\u001b[39m \u001b[39mfloat\u001b[39m\n\u001b[0;32m      <a href='vscode-notebook-cell://134.61.2.6/Praktikum/Praktikum/Versuche/PYT/Einf%C3%BChrung_in_Python_Musterl%C3%B6sung_V4.ipynb#X20sZmlsZQ%3D%3D?line=1'>2</a>\u001b[0m \u001b[39mprint\u001b[39m(test_int_float, \u001b[39mtype\u001b[39m(test_int_float))\n\u001b[1;32m----> <a href='vscode-notebook-cell://134.61.2.6/Praktikum/Praktikum/Versuche/PYT/Einf%C3%BChrung_in_Python_Musterl%C3%B6sung_V4.ipynb#X20sZmlsZQ%3D%3D?line=5'>6</a>\u001b[0m test_string_int \u001b[39m=\u001b[39m string \u001b[39m+\u001b[39m \u001b[39mint\u001b[39m\n\u001b[0;32m      <a href='vscode-notebook-cell://134.61.2.6/Praktikum/Praktikum/Versuche/PYT/Einf%C3%BChrung_in_Python_Musterl%C3%B6sung_V4.ipynb#X20sZmlsZQ%3D%3D?line=6'>7</a>\u001b[0m \u001b[39mprint\u001b[39m(test_string_int, \u001b[39mtype\u001b[39m(test_string_int))\n",
      "\u001b[1;31mTypeError\u001b[0m: can only concatenate str (not \"int\") to str"
     ]
    }
   ],
   "source": [
    "test_int_float = int + float\n",
    "print(test_int_float, type(test_int_float))\n",
    "\n",
    "\n",
    "\n",
    "test_string_int = string + int\n",
    "print(test_string_int, type(test_string_int))\n"
   ]
  },
  {
   "cell_type": "markdown",
   "metadata": {},
   "source": [
    "Der Code wird bis zum Auftritt des Fehlers normal ausgeführt. Bei einem Fehler im Code wird in der Ausgabe eine Beschreibung des Fehlers angezeigt. Dort sehen Sie zu Beginn, um welche Art von Fehler (hier *TypeError*, also ein Datentypfehler) es sich handelt und dann, in welcher Zeile sich der Fehler befindet. Zum Schluss wird der Fehler noch begründet. Durch diese Darstellung ist es möglich, schnell Fehler zu finden und zu beheben. Das Prozedere des Fehlerbehebens nennt man *debuggen*. Es ist ein wichtiger Teil des Programmierens und wird Ihnen noch häufig im Laufe des Praktikumsversuchs begegnen.\n",
    "\n",
    "Löschen Sie nun die fehlerhaften Zeilen im oberen Beispiel und führen die Zelle erneut aus. Falls Sie *Run All* verwendet haben, hat das ausführen an dieser Stelle terminiert. Sie müssten also nach der Entfernung des fehlerhaften Codes erneut *Run All* ausführen."
   ]
  },
  {
   "cell_type": "markdown",
   "metadata": {},
   "source": [
    "## 2.2 Operatoren\n",
    "\n",
    "Zur Verwendung von Variablen werden jetzt noch Operatoren benötigt. Zur mathematischen Berechnung stehen Ihnen die folgenden **arithmetischen Operatoren** zur Verfügung:\n",
    "\n",
    "```py\n",
    "a + b   # Addition\n",
    "a - b   # Subtraktion\n",
    "a * b   # Multplikation\n",
    "a / b   # Division\n",
    "a**2    # Potenzieren\n",
    "```\n",
    "\n",
    "Mit Klammern können Berechnungen wie beim Taschenrechner verschachtelt werden. \n",
    "\n",
    "Es können auch *strings* miteinander addiert und so zu einem *string* zusammengefügt werden."
   ]
  },
  {
   "cell_type": "code",
   "execution_count": 8,
   "metadata": {},
   "outputs": [
    {
     "name": "stdout",
     "output_type": "stream",
     "text": [
      "3 4\n",
      "81\n",
      "Hallo ich heiße Max Mustermann\n"
     ]
    }
   ],
   "source": [
    "x = 3\n",
    "y = 4\n",
    "\n",
    "print(x,y)\n",
    "print(x**y)\n",
    "\n",
    "name = \"Max Mustermann\"\n",
    "\n",
    "print(\"Hallo ich heiße \" + name)"
   ]
  },
  {
   "cell_type": "markdown",
   "metadata": {},
   "source": [
    "---"
   ]
  },
  {
   "cell_type": "markdown",
   "metadata": {},
   "source": [
    "**Aufgabe 1:** Verwenden Sie jetzt die Operatoren, um einfache Berechnungen durchzuführen. Erstellen Sie unterhalb dieser Text-Zelle eine Code-Zelle und deklarieren dort geeignete Variablen. Führen Sie anschließend verschiedene Berechnungen mit Ihren Variablen durch. Verwenden Sie dabei jeden Operator mindestens einmal. Lassen Sie sich anschließend die Ergebnisse ausgeben."
   ]
  },
  {
   "cell_type": "code",
   "execution_count": 9,
   "metadata": {},
   "outputs": [
    {
     "name": "stdout",
     "output_type": "stream",
     "text": [
      "13.53125\n"
     ]
    }
   ],
   "source": [
    "# Musterlösung\n",
    "a = 2\n",
    "b = 3.2\n",
    "\n",
    "berechnung = (a+b)**2/2-1/(2*2)\n",
    "\n",
    "print(berechnung)"
   ]
  },
  {
   "cell_type": "markdown",
   "metadata": {},
   "source": [
    "--- "
   ]
  },
  {
   "cell_type": "markdown",
   "metadata": {},
   "source": [
    "Um Variablen miteinander vergleichen zu können, gibt es folgende **relationale Operatoren**:\n",
    "\n",
    "```py\n",
    "a == b  # a gleich b\n",
    "a != b  # a ungleich b\n",
    "a < b   # a kleiner b\n",
    "a <= b  # a kleiner oder gleich b\n",
    "a > b   # a größer b\n",
    "a >= b  # a größer oder gleich b\n",
    "```\n",
    "Als Ergebnis solcher Vergleiche wird ein Wahrheitswert (*bool*) zurückgegeben.\n",
    "\n",
    "Ein häufiger Fehler ist die Verwechslung von == (Abfrage auf Gleichheit) und = (Zuweisung).\n",
    "\n",
    "Es können auch *strings* und Wahrheitswerte miteinander verglichen werden."
   ]
  },
  {
   "cell_type": "code",
   "execution_count": 10,
   "metadata": {},
   "outputs": [
    {
     "name": "stdout",
     "output_type": "stream",
     "text": [
      "False\n",
      "True\n",
      "False\n"
     ]
    }
   ],
   "source": [
    "a = 2\n",
    "b = 3.2\n",
    "\n",
    "größer_oder_gleich = a >= b #Dieser Ausdruck wird von rechts nach links ausgewertet. Zunächst wird geprüft, ob a>=b wahr ist. Da b > a gilt, ist das Ergebnis dieser Prüfung \"False\".\n",
    "                            #Dieses Ergebnis wird der Variablen größer_oder_gleich zugewiesen.\n",
    "\n",
    "print(größer_oder_gleich)\n",
    "\n",
    "\n",
    "name = \"Maxi Musterfrau\"\n",
    "\n",
    "namengleichheit = name == \"Maxi Musterfrau\" #Ein ähnliches Konstrukt wie oben: Zunächst wird geprüft, ob der Wert der Variablen name und \"Maxi Musterfrau\" gleich sind. Beachten Sie, dass für den Vergleich\n",
    "                                            #der Operator == und nicht = verwendet werden muss! Das Ergebnis dieser Prüfung (True, da Gleichheit vorliegt), wird der Variablen namengleichheit zugewiesen.\n",
    "\n",
    "print(namengleichheit)\n",
    "\n",
    "print(größer_oder_gleich == namengleichheit) #Das Ergebnis einer Prüfung kann auch direkt ausgegeben werden. print() evaluiert den wahrheitsgehalt von größer_oder_gleich == namengleichheit und gibt diesen aus."
   ]
  },
  {
   "cell_type": "markdown",
   "metadata": {},
   "source": [
    "*strings* und *integer* können durch eine sogenannte Typumwandlung miteinander kombiniert werden. Dabei wird ein *integer* (oder *float*) in einen *string* konvertiert und dann als Zeichen an den bestehenden *string* angehängt. Die Funktion zur Typumwandlung ist gelichnamig zum gewünschten Datentyp. In diesem Fall `str()`. \n",
    "\n",
    "**Vorsicht:** Es können nicht alle Datentypen zu jeglichen anderen Datentypen konvertiert werden."
   ]
  },
  {
   "cell_type": "code",
   "execution_count": 11,
   "metadata": {},
   "outputs": [
    {
     "name": "stdout",
     "output_type": "stream",
     "text": [
      "Ich bin im Jahr 2003 geboren.\n"
     ]
    }
   ],
   "source": [
    "geburtsjahr = 2003\n",
    "\n",
    "print(\"Ich bin im Jahr \" + str(geburtsjahr) + \" geboren.\")\n"
   ]
  },
  {
   "cell_type": "markdown",
   "metadata": {},
   "source": [
    "## 2.3 Listen\n",
    "\n",
    "Die Liste ist ein Datentyp, der aus mehreren Elementen besteht. Wie oben bereits bei der Auflistung der Datentypen gezeigt, wird eine Liste wie folgt deklariert:\n",
    "\n",
    "```py\n",
    "liste = [eintrag_0, eintrag_1, eintrag_2, ...]\n",
    "```\n",
    "\n",
    "Möchten Sie jetzt einzelne Einträge der Liste erreichen, können Sie die Liste zusammen mit dem gewünschten Index (Stelle des Eintrags in der Liste) in einer eckigen Klammer aufrufen. \n",
    "\n",
    "Die Struktur von Listen wird in der nachfolgenden Abbildung verdeutlicht.\n",
    "\n",
    "**Wichtig:** Der erste Eintrag einer Liste befindet sich bei Index 0, der Zweite bei Index 1 und so weiter."
   ]
  },
  {
   "attachments": {
    "image.png": {
     "image/png": "[encoded data removed]"
    }
   },
   "cell_type": "markdown",
   "metadata": {},
   "source": [
    "![image.png](attachment:image.png)"
   ]
  },
  {
   "cell_type": "code",
   "execution_count": 12,
   "metadata": {},
   "outputs": [
    {
     "name": "stdout",
     "output_type": "stream",
     "text": [
      "[1, 2, 3, 4, 5, 6]\n",
      "3\n",
      "4\n"
     ]
    }
   ],
   "source": [
    "liste = [1, 2, 3, 4, 5, 6]\n",
    "\n",
    "test = liste[2]     # speichert in test das Element bei Index 2 (3. Element)\n",
    "test_2 = liste[3]\n",
    "\n",
    "print(liste)\n",
    "print(test)\n",
    "print(test_2)"
   ]
  },
  {
   "cell_type": "markdown",
   "metadata": {},
   "source": [
    "Sollen mehrere Einträge auf einmal aufgerufen werden, kann folgende [Syntax](https://de.wikipedia.org/wiki/Syntax) verwendet werden:\n",
    "\n",
    "```py\n",
    "liste[Start_Index:Ende_Index:Schrittweite]\n",
    "```\n",
    "\n",
    "Das Prozedere nennt man *slicing*. Wenn alle Werte des gewählten Bereichs ausgegeben werden sollen, kann die Schrittweite weggelassen werden. Der Wert an der Stelle von *Start* ist inbegriffen, der Wert an der Stelle von *Ende* wird jedoch ausgeschlossen."
   ]
  },
  {
   "cell_type": "code",
   "execution_count": 13,
   "metadata": {},
   "outputs": [
    {
     "name": "stdout",
     "output_type": "stream",
     "text": [
      "[2, 4]\n",
      "[2, 3, 4, 5]\n"
     ]
    }
   ],
   "source": [
    "liste = [1, 2, 3, 4, 5, 6]\n",
    "\n",
    "\n",
    "print(liste[1:5:2])     # Index 1 enthät das Element 2 und Index 5 das Element 6. \n",
    "                        # Durch die Schrittweite werden die Indizes 2 (Element 3) und 4 (Element 5) übersprungen. Index 5 (Element 6) wird ausgeschlossen.\n",
    "\n",
    "print(liste[1:5])       # ohne Schrittweite"
   ]
  },
  {
   "cell_type": "markdown",
   "metadata": {},
   "source": [
    "Es gibt einige wichtige in Python eingebaute Funktionen für den Umgang mit Listen. Zwei davon sind `len()` (gibt die Länge einer Liste aus) und `sum()` (summiert alle Einträge einer Liste). Alle Python internen Funktionen finden Sie hier: [Built-in Functions](https://docs.python.org/3/library/functions.html)"
   ]
  },
  {
   "cell_type": "code",
   "execution_count": 14,
   "metadata": {},
   "outputs": [
    {
     "name": "stdout",
     "output_type": "stream",
     "text": [
      "6\n",
      "21\n"
     ]
    }
   ],
   "source": [
    "liste = [1, 2, 3, 4, 5, 6]\n",
    "\n",
    "\n",
    "print(len(liste))\n",
    "print(sum(liste))\n"
   ]
  },
  {
   "cell_type": "markdown",
   "metadata": {},
   "source": [
    "Listen bieten sich zur Speicherung von Messwerten an. Mit einem Modul, welches Sie sich später noch anschauen, können dann Berechnungen direkt auf allen Einträgen der Liste durchgeführt werden."
   ]
  },
  {
   "cell_type": "markdown",
   "metadata": {},
   "source": [
    "---"
   ]
  },
  {
   "cell_type": "markdown",
   "metadata": {},
   "source": [
    "**Aufgabe 2:** \n",
    "1. Fügen Sie eine Code-Zelle unterhalb dieser Zelle ein und deklarieren dort jeweils eine Liste mit 5 ausgedachten Messwerten zu Strom $I$ und Spannung $U$ (die Messwerte sind in der Regel keine ganzzahligen Werte). \n",
    "\n",
    "2. Berechnen Sie nun den Widerstand $R$ für die ersten beiden Einträge und geben beide Ergebnisse aus. Der Widerstand $R$ berechnet sich nach dem Ohm'schen Gesetz zu $R=\\frac{U}{I}$ .\n",
    "\n",
    "3. Konvertieren Sie nun die beiden Ergebnisse in *strings* um und geben das Ergebnis zusammen mit einer passenden Einheit aus. Die Ausgabe erlaubt Unicode-Zeichen. Kopieren Sie das folgende Zeichen für die Einheit des Widerstandes (Ohm): Ω.\n",
    "\n",
    "**Tipp:** Bei ähnlichen Code-Zeilen lohnt sich das Kopieren und Einfügen."
   ]
  },
  {
   "cell_type": "code",
   "execution_count": 15,
   "metadata": {},
   "outputs": [
    {
     "name": "stdout",
     "output_type": "stream",
     "text": [
      "Der erste Wert für einen Widerstand ist 42.0 Ω und der Zweite ist 46.57534246575343 Ω\n"
     ]
    }
   ],
   "source": [
    "# Musterlösung\n",
    "\n",
    "strom = [0.05, 0.073, 0.085, 0.09, 0.11]\n",
    "spannung = [2.1, 3.4, 4.0, 5.5, 6]\n",
    "\n",
    "widerstand_1 = spannung[0]/strom[0]\n",
    "widerstand_2 = spannung[1]/strom[1]\n",
    "\n",
    "print(\"Der erste Wert für einen Widerstand ist \" + str(widerstand_1) + \" Ω und der Zweite ist \" + str(widerstand_2) + \" Ω\")"
   ]
  },
  {
   "cell_type": "markdown",
   "metadata": {},
   "source": [
    "---"
   ]
  },
  {
   "cell_type": "markdown",
   "metadata": {},
   "source": [
    "Manche Funktionen geben mehrere Listen getrennt durch ein Komma *eingepackt* in einer übergeordneten Liste zurück. Eine solche Funktion lernen Sie am Versuchstag beim Importieren von Messwerten kennen. Dort wird z. B. in einer Liste die Messreihe der Bewegungsmessung und in der anderen die Messreihe zur Zeitmessung gespeichert. Das sieht dann wie folgt aus: `allgemeine_liste = [[Messreihe1],[Messreihe2]]`.<br>\n",
    "Nun kann jedes einzelne Element (Wert, Liste, String, etc.) einer Liste in einer eigenen Variable gespeichernt werden. Das ganze nennt man *unpacking*. Wichtig ist, dass jedem Element genau eine Variable zugeordnet wird. <br> Die Syntax sieht dafür wie folgt aus:"
   ]
  },
  {
   "cell_type": "code",
   "execution_count": 16,
   "metadata": {},
   "outputs": [
    {
     "name": "stdout",
     "output_type": "stream",
     "text": [
      "1 2 3 4 [1, 2, 3, 4] \n",
      "\n",
      "[[1, 2], [3, 4], [5, 6]] \n",
      "\n",
      "[1, 2] [3, 4] [5, 6]\n"
     ]
    }
   ],
   "source": [
    "liste = [1, 2, 3, 4]\n",
    "\n",
    "\n",
    "wert_1, wert_2, wert_3, wert_4 = liste      # jeder Wert der vorher deklarierten Liste wird in eine eigene Variable gespeichert\n",
    "print(wert_1, wert_2, wert_3, wert_4, liste, \"\\n\")  # mit dem string \"\\n\" wird eine neue Zeile in der Ausgabe erzwungen (n steht für \"new line\")\n",
    "\n",
    "neue_liste = [[1, 2],[3, 4],[5, 6]]   # Struktur: [[Liste1],[Liste2],[Liste3]]\n",
    "print(neue_liste, \"\\n\")\n",
    "\n",
    "u, v, w = neue_liste                  # u = Liste1; v = Liste2; w = Liste3\n",
    "\n",
    "print(u, v, w)"
   ]
  },
  {
   "cell_type": "markdown",
   "metadata": {},
   "source": [
    "Mit einer weiteren Funktion von Python können einer Liste Elemente hinzugefügt werden. Diese Funktion sollen Sie nun selbst recherchieren. \n",
    "\n",
    "Bei der Programmierung ist ein wichtiger Bestandteil das Suchen und Sammeln von Informationen, da es normalerweise keine Schritt für Schritt Anleitung zu jedem Problem gibt. Dieser Versuch dient nur als Einführung in die Datenauswertung und lehrt Sie ausschließlich die Grundlagen. Treffen Sie bei diesem oder einem anderen Versuch auf ein Problem, ist die erste Anlaufstelle in der Regel das Internet. In der Informatik gibt es viele hilfreiche Internetseiten. Bei Suchanfragen ist *StackOverflow* dabei oft das erste Ergebnis. Hier finden Sie jedoch für einfache Probleme häufig zu komplexe Lösungen. <br> \n",
    "*ChatGPT* kann eine große Hilfe bei einfachen Problemen sein. <br>\n",
    "Wenn das Problem mit Funktionen zu tun hat, empfiehlt es sich zuerst die Dokumentation der Funktion zu lesen. Diese finden Sie für jegliche Funktionen, indem Sie den Funktionsaufruf in die Suchmaschine zusammen mit der Programmiersprache oder Paketnamen eingeben (z. B. \"print() Python\")."
   ]
  },
  {
   "cell_type": "markdown",
   "metadata": {},
   "source": [
    "---"
   ]
  },
  {
   "cell_type": "markdown",
   "metadata": {},
   "source": [
    "**Aufgabe 3:** Finden Sie selbstständig eine Lösung zum Hinzufügen von Elementen in eine Liste, definieren Sie dazu eine neue Code-Zelle unterhalb dieser Anweisungen.\n",
    "\n",
    "1. Die Liste soll zu Beginn wie folgt aussehen: ['Aachen', 'Köln', 'Bonn', 'Düsseldorf'].\n",
    "\n",
    "2. Hängen Sie jetzt die Städte *Dortmund* und *Bielefeld* hinten an die Liste an. Nutzen Sie dafür eine geeignete Funktion.\n",
    "\n",
    "3. Die Ausgabe sollte dann wie folgt aussehen: ['Aachen', 'Köln', 'Bonn', 'Düsseldorf', 'Dortmund', 'Bielefeld']."
   ]
  },
  {
   "cell_type": "code",
   "execution_count": 17,
   "metadata": {},
   "outputs": [
    {
     "name": "stdout",
     "output_type": "stream",
     "text": [
      "['Aachen', 'Köln', 'Bonn', 'Düsseldorf']\n",
      "['Aachen', 'Köln', 'Bonn', 'Düsseldorf', 'Dortmund', 'Bielefeld']\n"
     ]
    }
   ],
   "source": [
    "# Musterlösung\n",
    "\n",
    "aufgabe3_liste = [\"Aachen\", \"Köln\", \"Bonn\", \"Düsseldorf\"]\n",
    "\n",
    "print(aufgabe3_liste)\n",
    "\n",
    "aufgabe3_liste.append(\"Dortmund\")\n",
    "aufgabe3_liste.append(\"Bielefeld\")\n",
    "\n",
    "print(aufgabe3_liste)"
   ]
  },
  {
   "cell_type": "markdown",
   "metadata": {},
   "source": [
    "--- "
   ]
  },
  {
   "cell_type": "markdown",
   "metadata": {},
   "source": [
    "## 2.4 Funktionen\n",
    "\n",
    "Sie haben bereits ein paar vordefinierte Funktionen wie `print()` und `str()` kennengelernt. Funktionsaufrufe erkennt man an den runden Klammern () hinter dem Funktionsnamen. In diesen runden Klammern wird der Funktion die Argumente übergeben. Ein Funktionsaufruf hat somit die Syntax: \n",
    "\n",
    "```py\n",
    "Funktionsname()\n",
    "Funktionsname(Argumente)\n",
    "```\n",
    "\n",
    "Es gibt Funktionen, die explizit über ein bestimmtes Objekt (Variable, Modul, etc.) aufgerufen werden müssen. Diese werden Methoden genannt. Solche Funktionen werden wie folgt aufgerufen:\n",
    "\n",
    "```py\n",
    "Objekt.Funktionsname(Argumente)\n",
    "liste.append(Element)\n",
    "```\n",
    "\n",
    "Nicht jeder Funktion müssen zwingend Argumente übergeben werden. Das wird bei der Erstellung der Funktion in Form von Parametern festgelegt. Funktionen werden anhand dieser Syntax definiert:\n",
    "\n",
    "```py\n",
    "def Funktionsname(Parameter):\n",
    "    Aktion\n",
    "```\n",
    "In Python wird durch das Einrücken unterhalb der Funktionsdefinition der zu der Funktion gehörende Bereich festgelegt. Das Einrücken wird in *VSCode* und *Jupyter* automatisch eingefügt. Manuell entspricht das Einrücken dem Abstand von 4 Leerzeichen oder dem drücken der Tabulatortaste (⭾, Tab, ⇥(Mac))."
   ]
  },
  {
   "cell_type": "code",
   "execution_count": 18,
   "metadata": {},
   "outputs": [
    {
     "name": "stdout",
     "output_type": "stream",
     "text": [
      "Aachen Köln Bonn\n"
     ]
    }
   ],
   "source": [
    "def abc_Region():           # Funktion ohne Parameter\n",
    "    print(\"Aachen\", \"Köln\", \"Bonn\")\n",
    "\n",
    "abc_Region()"
   ]
  },
  {
   "cell_type": "markdown",
   "metadata": {},
   "source": [
    "Mit Hilfe von Parametern können der Funktion Daten übergeben werden, die anschließend innerhalb der Funktion verwendet werden können. Bei einem Funktionsaufruf werden den Parametervariablen die Argumente des Aufrufs zugewiesen. Die Variablen sind nur innerhalb der Funktion erreichbar und überschreiben keine Variable außerhalb der Funktion. Vorsicht ist hier bei der Verwendung gleichnamiger Variablen innerhalb einer Funktion geboten."
   ]
  },
  {
   "cell_type": "code",
   "execution_count": 19,
   "metadata": {},
   "outputs": [
    {
     "name": "stdout",
     "output_type": "stream",
     "text": [
      "0.6666666666666666 m/s\n",
      "3\n",
      "5\n",
      "[3, 4]\n"
     ]
    }
   ],
   "source": [
    "x = 3\n",
    "t = 5\n",
    "\n",
    "def geschwindigkeit(x, t):  # Funktion mit erwarteten Paramtern x und t\n",
    "    v = x/t\n",
    "    print(str(v) + \" m/s\")\n",
    "    print(t)                # Funktion verwendet immer primär die Parametervariablen        \n",
    "\n",
    "geschwindigkeit(2, 3)\n",
    "\n",
    "print(t)        # t wurde nicht durch den Funktionsaufruf überschrieben\n",
    "print(v)        # v aus einem vorherigem Beispiel und nicht das Ergebnis der Berechnung\n"
   ]
  },
  {
   "cell_type": "markdown",
   "metadata": {},
   "source": [
    "Soll die Funktion ein Ergebnis ausgeben, das auch außerhalb der Funktion verwendet werden kann, muss am Ende der Funktion ein `return` Statement hinzugefügt werden.\n",
    "\n",
    "Die Syntax zur Funktionsdefinition sieht dann wie folgt aus:\n",
    "\n",
    "```py\n",
    "def Funktionsname():\n",
    "    Aktion\n",
    "    return Rueckgabewert\n",
    "```"
   ]
  },
  {
   "cell_type": "code",
   "execution_count": 20,
   "metadata": {},
   "outputs": [
    {
     "name": "stdout",
     "output_type": "stream",
     "text": [
      "0.6666666666666666 m/s\n",
      "0.5 m/s\n"
     ]
    }
   ],
   "source": [
    "def geschwindigkeit(x, t):  # Funktion mit erwarteten Paramtern x und t\n",
    "    v = x/t\n",
    "    return v\n",
    "\n",
    "vel = geschwindigkeit(2, 3)   # der neuen Variable vel (velocity) wird jetzt der Rückgabewert (v) der \n",
    "                              # Funktion zugewiesen und ist somit auch außerhalb der Funktion verwendbar\n",
    "\n",
    "print(str(vel) + \" m/s\")\n",
    "\n",
    "vel_2 = geschwindigkeit(4, 8)\n",
    "\n",
    "print(str(vel_2) + \" m/s\")"
   ]
  },
  {
   "cell_type": "markdown",
   "metadata": {},
   "source": [
    "---"
   ]
  },
  {
   "cell_type": "markdown",
   "metadata": {},
   "source": [
    "**Aufgabe 4:** Definieren Sie in einer neuen Code-Zelle eine Funktion, die beim Aufruf mit einem Wert für die Spannung und einem für Strom den Widerstand berechnet und zurückgibt. Verwenden Sie beim Funktionsaufruf die Werte aus der in Aufgabe 2 deklarierten Liste als Argumente. Berechnen Sie den Widerstand für 2 Wertepaare."
   ]
  },
  {
   "cell_type": "code",
   "execution_count": 21,
   "metadata": {},
   "outputs": [
    {
     "name": "stdout",
     "output_type": "stream",
     "text": [
      "42.0 46.57534246575343\n"
     ]
    }
   ],
   "source": [
    "# Musterlösung\n",
    "\n",
    "# aus Aufgabe 2:\n",
    "strom = [0.05, 0.073, 0.085, 0.09, 0.11]\n",
    "spannung = [2.1, 3.4, 4.0, 5.5, 6]          \n",
    "\n",
    "# Aufgabe 4:\n",
    "\n",
    "def widerstand(u, i):\n",
    "    return u/i\n",
    "\n",
    "r_1 = widerstand(spannung[0], strom[0])\n",
    "r_2 = widerstand(spannung[1], strom[1])\n",
    "\n",
    "print(r_1, r_2)"
   ]
  },
  {
   "cell_type": "markdown",
   "metadata": {},
   "source": [
    "---"
   ]
  },
  {
   "cell_type": "markdown",
   "metadata": {},
   "source": [
    "# 3 Module und Pakete: \n",
    "\n",
    "Module erweitern Python mit wichtigen Funktionen und Datenstrukturen. Sie werden in diesem Versuch Module zur Berechnung und Darstellung von Messwerten, zum Fitten von Messpunkten und für den Umgang mit Unsicherheiten kennenlernen. Es gibt jedoch für alle erdenklichen Anwendungsfälle Module. <br> \n",
    "\n",
    "Pakete bestehen aus mehreren Modulen. Bei der Verwendung ist die Unterscheidung zwischen Paketen und Modulen vorerst unwichtig. Im Laufe des Versuchs wird primär der Begriff Modul verwendet, außer es handelt sich explizit um Pakete.\n",
    "\n",
    "Zur Verwendung müssen Module und Pakete zuerst in Anaconda installiert und anschließend in das Notebook importiert werden. Anaconda hat viele vorinstallierte Module und weitere können über den Anaconda-Navigator installiert werden. Dazu später mehr. \n",
    "\n",
    "## 3.1 Rechnen mit Python (numpy)\n",
    "\n",
    "Das Modul, welches wir uns zur Einführung anschauen, ist *numpy* und macht aus Python einen voll funktionsfähigen Taschenrechner. Es liefert wichtige Funktionen und Datenstrukturen sowie wichtige Konstanten für mathematische Berechnungen.\n",
    "\n",
    "Module werden in der Regel mit der folgenden Syntax importiert:\n",
    "\n",
    "```py\n",
    "import modulname as alias\n",
    "```\n",
    "Als *alias* kann eine Abkürzung verwendet werden, über die dann Funktionen und Konstanten des Moduls aufgerufen werden können. Funktionen eines Moduls werden mit der folgenden Syntax aufgerufen:\n",
    "\n",
    "\n",
    "```py\n",
    "alias.funktionsname(Argumente)\n",
    "```\n",
    "\n",
    "Es ist auch möglich einzelne Funktionen aus Modulen zu importieren. So können die Funktionen direkt ohne einen vorangehenden Modulnamen verwendet werden. Die Syntax für den Import von einzelnen Funktionen lautet:\n",
    "\n",
    "```py\n",
    "from modulname import funktionsname, funktionsname2\n",
    "# oder\n",
    "from modulname import *     # alle Funktionen\n",
    "```\n",
    "\n",
    "Ein Paket \n",
    "\n",
    "Diese Art des imports ist jedoch mit Vorsicht zu genießen, da die Funktionsnamen Variablen oder andere Funktionen überschreiben oder von ihnen überschrieben werden.\n",
    "\n",
    "Es folgen Beispiele:"
   ]
  },
  {
   "cell_type": "code",
   "execution_count": 22,
   "metadata": {},
   "outputs": [],
   "source": [
    "import numpy as np"
   ]
  },
  {
   "cell_type": "code",
   "execution_count": 23,
   "metadata": {},
   "outputs": [
    {
     "name": "stdout",
     "output_type": "stream",
     "text": [
      "3.141592653589793\n",
      "7.38905609893065\n",
      "2.0\n",
      "1.0\n"
     ]
    }
   ],
   "source": [
    "print(np.pi)\n",
    "print(np.exp(2))        # e^2\n",
    "print(np.sqrt(4))       # Wurzel(4)\n",
    "print(np.sin(np.pi/2))  # sin(pi/2)\n",
    "\n"
   ]
  },
  {
   "cell_type": "code",
   "execution_count": 24,
   "metadata": {},
   "outputs": [
    {
     "name": "stdout",
     "output_type": "stream",
     "text": [
      "3.141592653589793\n",
      "3.1\n"
     ]
    }
   ],
   "source": [
    "# Variable überschreibt numpy-Funktion\n",
    "\n",
    "from numpy import pi\n",
    "\n",
    "print(pi)   # pi aus numpy\n",
    "\n",
    "\n",
    "pi = 3.1    # überschreibt Funktion von numpy\n",
    "\n",
    "print(pi)\n"
   ]
  },
  {
   "cell_type": "code",
   "execution_count": 25,
   "metadata": {},
   "outputs": [
    {
     "name": "stdout",
     "output_type": "stream",
     "text": [
      "0.5\n",
      "1.0\n",
      "0.6366197723675814\n"
     ]
    }
   ],
   "source": [
    "# import überschreibt eigene Funktion\n",
    "\n",
    "def sin(x):     # definition einer einfachen Funktion\n",
    "    y = 1/x\n",
    "    return y\n",
    "\n",
    "print(sin(2))   # 1/2 = 0.5\n",
    "\n",
    "\n",
    "\n",
    "from numpy import pi, sin   # überschreibt die eigene Funktion und die Variable pi aus vorheriger Code-Zelle\n",
    "\n",
    "\n",
    "print(sin(pi/2))     # sin ist jetzt die trigonometrische Funktion aus numpy\n",
    "print(1/(pi/2))      # erwartetes Ergebnis ohne Überschreibung"
   ]
  },
  {
   "cell_type": "markdown",
   "metadata": {},
   "source": [
    "Alle mathematischen Funktionen von *numpy* finden Sie hier: [Mathematical functions](https://numpy.org/doc/stable/reference/routines.math.html)\n",
    "\n",
    "Eine Datenstruktur die *numpy* liefert sind *numpy*-Arrays. Durch Sie können Berechnungen direkt auf der gesamten Liste durchgeführt werden. *numpy*-Arrays ähneln den Listen aus Python. Bekannte Listen können mit folgender Syntax in *numpy*-Arrays überführt werden: \n",
    "\n",
    "```py\n",
    "name_array = np.array(Liste)\n",
    "```\n",
    "\n",
    "Elemente eines Arrays erhält man analog zu Elementen aus Listen: \n",
    "\n",
    "```py\n",
    "name_array[index]\n",
    "```\n",
    "\n",
    "Führt man nun Berechnungen mit diesen Arrays aus, wird das Ergebnis für jedes Element des Arrays berechnet. Das Ergebnis kann dann als Array in einer neuen Variable gespeichert werden. *numpy* bietet auch extra Methoden für den Umgang mit Arrays:\n",
    "\n",
    "```py\n",
    "array.min()     # Minimum\n",
    "array.max()     # Maximum\n",
    "array.sum()     # Summe\n",
    "array.mean()    # Mittelwert\n",
    "array.std()     # Standardabweichung\n",
    "\n",
    "```\n",
    "\n",
    "Alle *numpy*-Array-Methoden finden Sie hier: [numpy.ndarray](https://numpy.org/doc/stable/reference/generated/numpy.ndarray.html)."
   ]
  },
  {
   "cell_type": "code",
   "execution_count": 26,
   "metadata": {},
   "outputs": [
    {
     "name": "stdout",
     "output_type": "stream",
     "text": [
      "[1 2 3] [3 2 1]\n",
      "1 3\n",
      "[3 4 3] [31 32 33] [0.14112001 0.90929743 0.84147098]\n"
     ]
    }
   ],
   "source": [
    "liste = [3,2,1]\n",
    "\n",
    "array_1 = np.array([1,2,3])\n",
    "array_2 = np.array(liste)\n",
    "\n",
    "print(array_1,array_2)\n",
    "\n",
    "\n",
    "print(array_1.min(), array_2.max()) # Array-Methoden\n",
    "\n",
    "\n",
    "\n",
    "solution = array_1*array_2  # Berechnungen mit Arrays\n",
    "solution_2 = array_1 + 30\n",
    "solution_3 = np.sin(array_2)\n",
    "\n",
    "print(solution, solution_2, solution_3)"
   ]
  },
  {
   "cell_type": "markdown",
   "metadata": {},
   "source": [
    "Sie können mit *numpy*-Arrays auch Funktionen aufrufen."
   ]
  },
  {
   "cell_type": "code",
   "execution_count": 27,
   "metadata": {},
   "outputs": [
    {
     "name": "stdout",
     "output_type": "stream",
     "text": [
      "[0.33333333 1.         3.        ]\n"
     ]
    }
   ],
   "source": [
    "def geschwindigkeit(x, t):  # Funktion aus vorherigem Beispiel\n",
    "    v = x/t\n",
    "    return v\n",
    "\n",
    "array_1 = np.array([1,2,3])\n",
    "array_2 = np.array([3,2,1])\n",
    "\n",
    "geschw = geschwindigkeit(array_1, array_2)  \n",
    "\n",
    "print(geschw)"
   ]
  },
  {
   "cell_type": "markdown",
   "metadata": {},
   "source": [
    "--- "
   ]
  },
  {
   "cell_type": "markdown",
   "metadata": {},
   "source": [
    "**Aufgabe 5:** Erstellen Sie eine neue Code-Zelle und deklarieren dort zwei neue *numpy*-Arrays aus Ihren Listen aus Aufgabe 2 (Strom und Spannung). Nutzen Sie dann die Funktion aus Aufgabe 4, um in einem neuen Array die Widerstände zu speichern."
   ]
  },
  {
   "cell_type": "code",
   "execution_count": 28,
   "metadata": {},
   "outputs": [
    {
     "name": "stdout",
     "output_type": "stream",
     "text": [
      "[42.         46.57534247 47.05882353 61.11111111 54.54545455]\n"
     ]
    }
   ],
   "source": [
    "# Musterlösung\n",
    "\n",
    "spannung_array = np.array(spannung)\n",
    "strom_array = np.array(strom)\n",
    "\n",
    "r_array = widerstand(spannung_array, strom_array)\n",
    "\n",
    "print(r_array)"
   ]
  },
  {
   "cell_type": "markdown",
   "metadata": {},
   "source": [
    "---"
   ]
  },
  {
   "cell_type": "markdown",
   "metadata": {},
   "source": [
    "## 3.2 Installation von Modulen und Paketen\n",
    "\n",
    "Das Paket *uncertainties* wird bei der Datenauswertung zur Berechnung sowie Darstellung von Unsicherheiten verwendet und Sie werden es am Versuchstag genauer kennenlernen.\n"
   ]
  },
  {
   "cell_type": "markdown",
   "metadata": {},
   "source": [
    "---"
   ]
  },
  {
   "cell_type": "markdown",
   "metadata": {},
   "source": [
    "**Aufgabe 6:** Installieren Sie das Paket *uncertainties* in Anaconda. \n",
    "\n",
    "Die einfachste Möglichkeit der Installation ist über die Kommandozeile. \n",
    "\n",
    "**Über das Terminal:**\n",
    "\n",
    "**Windows:** Starten Sie den *Anaconda Prompt*. Der *Anaconda Prompt* sollte bei der Installation von Anaconda installiert worden sein. <br>\n",
    "**MacOS:** Starten Sie das Terminal und aktivieren die Anaconda-Umgebung mit der Zeile: `conda activate base`\n",
    "\n",
    "Geben Sie nun den folgenden Befehl in den *Anaconda Prompt* bzw. das Terminal ein:\n",
    "\n",
    "```shell\n",
    "conda install -c conda-forge uncertainties\n",
    "```\n",
    "Die Vorbereitung des downloads kann etwas Zeit in Anspruch nehmen.\n",
    "\n",
    "Bei der Nachricht *Proceed(y, n)?* mit `y` (yes) zustimmen.\n",
    "\n",
    "Das Paket *uncertainties* sollte nun installiert sein. Sie können das Terminal bzw. den *Anaconda Prompt* nach der Installation schließen.\n",
    "<br>\n",
    "<br>\n",
    "\n",
    "**Über den Anaconda Navigator:**\n",
    "\n",
    "Die andere Möglichkeit der Installation ist über den Anaconda Navigator. Gehen Sie im Anaconda Navigator links in der Leiste auf *Evironments* und dann auf *base(root)*. Rechts sollten Sie nun eine Liste der installierten Pakete sehen. In dem Drop-Down-Menü *Installed* wählen Sie *Not installed* aus. Unter *Channels* müssen Sie noch mit *Add...* *conda-forge* hinzufügen. Aktualisieren Sie mit *Update index* die Paketliste und suchen anschließend das Paket *uncertainties*. Wählen Sie das Paket in der Liste aus und installieren es mit *Apply* (rechts unten).\n",
    "\n",
    "Führen Sie zur Überprüfung der Installation die folgende Code-Zelle aus:"
   ]
  },
  {
   "cell_type": "code",
   "execution_count": 29,
   "metadata": {},
   "outputs": [],
   "source": [
    "from uncertainties import unumpy as unp"
   ]
  },
  {
   "cell_type": "markdown",
   "metadata": {},
   "source": [
    "Erhalten Sie keine Fehlermeldung, ist das Paket erfolgreich installiert."
   ]
  },
  {
   "cell_type": "markdown",
   "metadata": {},
   "source": [
    "---"
   ]
  },
  {
   "cell_type": "markdown",
   "metadata": {},
   "source": [
    "# 4 Funktionen für die Datenauswertung\n",
    "\n",
    "In diesem Abschnitt lernen Sie die das Einlesen von Messdaten und das Erstellen von Plots kennen.\n",
    "\n",
    "## 4.1 Einlesen von Messdaten \n",
    "\n",
    "Die Funktion zum Einlesen von Daten ist in *numpy* enthalten. Die Funktion heißt `loadtxt()`. Der Funktion müssen Argumente übergeben werden, die beschreiben, wie die Datei der Messdaten formatiert ist. Als Argumente werden in der Regel der Dateinmane (fname) als *string*, das Trennzeichen (delimiter=\"*Trennzeichen*\"), die zu überspringenden Zeilen (skiprows=*Anzahl*) und gegebenenfalls die zu verwendenden Spalten (usecols=*Zahl* oder *Liste mit Splatenzahlen*) übergeben. Zusätzlich ist das Argument `unpack=True` wichtig, damit Spalten statt Zeilen eingelesen werden. Mit `unpack=True` gibt die Funktion ein *numpy*-Array der Form `[[Spalte1][Spalte2][Spalte3]...]` zurück. Mit *unpacking* (Abschnitt 2.3) können dann die Spalten in einzelnen Variablen gespeichert werden.  Wichtig ist hier, dass **jeder** Spalte **genau eine** Variable zugeordnet wird.\n",
    "\n",
    "Die *.csv*-Datei mit dem Namen *Messung1.csv* hat z. B. die Form:\n",
    "\n",
    "\"Time (s)\",\"Linear Acceleration x (m/s^2)\",... <br>\n",
    "3.302833327E-3,-2.543432828E-1,... <br>\n",
    "1.327483333E-2,-1.793776658E-1,... <br>\n",
    "\n",
    "Hier ist das Trennzeichen ein Komma (delimiter=\",\") und es muss beim Einlesen die Zeile mit Text übersprungen werden (skiprows=1). Beinhaltet die Datei Spalten, die nicht für die Datenauswertung genutzt werden, lohnt sich die Verwendung von *usecols=*. Die oben gezeigte *.csv*-Datei könnte mit der folgenden Syntax eingelesen werden:\n",
    "\n",
    "```py\n",
    "t, a_x = np.loadtxt(\"Messung1.csv\", delimiter=\",\", skiprows=1, usecols=(0,1), unpack=True)\n",
    "```\n",
    "\n",
    "Es wird über *unpacking* die 1. Spalte in der Variable *t* und die 2. Spalte in der Variable *a_x* gespeichert (*usecols* beginnt wie auch Listen und Arrays bei dem Index 0 für das 1. Element). Alle anderen Spalten der Datei werden nicht eingelesen. Zusätzlich wird durch `skiprows=1` die 1. Zeile (Beschreibung der Spalten) beim Einlesen übersprungen. \n",
    "\n",
    "In den Variablen werden die Spalten als *numpy*-Arrays gespeichert. Diese haben Sie bereits im letzten Kapitel kennengelernt.\n",
    "\n",
    "Die genaue Beschreibung aller möglichen Argumente der Einlesefunktion finden Sie in der Dokumentation: [np.loadtxt()](https://numpy.org/doc/stable/reference/generated/numpy.loadtxt.html)\n"
   ]
  },
  {
   "cell_type": "markdown",
   "metadata": {},
   "source": [
    "---"
   ]
  },
  {
   "cell_type": "markdown",
   "metadata": {},
   "source": [
    "**Aufgabe 7:** In Moodle finden Sie neben den Notebooks auch die Datei *Beispiel.csv*. Laden Sie die Datei herunter und legen Sie die Datei in dem selben Ordner wie dieses Notebook ab. Sie können die Datei auch links in den *Explorer* ziehen, falls Sie zu Beginn dort den Ordner mit diesem Notebook geöffnet haben.\n",
    "\n",
    "Befindet sich die Datei im richtigen Verzeichnis, können Sie jetzt die Daten einlesen. Denken Sie daran, *numpy* vorher zu importieren.\n",
    "\n",
    "Erstellen Sie eine neue Code-Zelle und lesen Sie die Werte der Datei *Beispiel.csv* ein. Zur Überprüfung sollten Sie sich den Inhalt ihrer Variablen ausgeben lassen."
   ]
  },
  {
   "cell_type": "code",
   "execution_count": 30,
   "metadata": {},
   "outputs": [
    {
     "name": "stdout",
     "output_type": "stream",
     "text": [
      "[0.  0.5 1.  1.5 2.  2.5 3.  3.5 4. ] [ 0.   1.   2.5  4.5  7.  10.  13.5 17.5 22. ]\n"
     ]
    }
   ],
   "source": [
    "# Musterlösung\n",
    "\n",
    "import numpy as np\n",
    "\n",
    "t, v = np.loadtxt(\"Beispiel.csv\", delimiter=\",\", skiprows=1, unpack=True)\n",
    "\n",
    "print(t,v)"
   ]
  },
  {
   "cell_type": "markdown",
   "metadata": {},
   "source": [
    "---"
   ]
  },
  {
   "cell_type": "markdown",
   "metadata": {},
   "source": [
    "## 4.2 Darstellung als Plot\n",
    "\n",
    "Sie können die eingelesenen Messdaten mit Hilfe des Moduls *matplotlib* in einem Diagramm darstellen. Dafür muss zuerst das Modul importiert werden:\n",
    "\n",
    "```py\n",
    "import matplotlib.pyplot as plt\n",
    "```\n",
    "Nun können Sie mit der Funktion `plot()` ein Diagramm erstellen. Die Funktion erwartet als Argumente die x- und y-Werte jeweils als Array oder Liste.\n",
    "\n",
    "Wie genau Sie den Plot erstellen, sollen Sie nun anhand der Dokumentation selbst herausfinden."
   ]
  },
  {
   "cell_type": "markdown",
   "metadata": {},
   "source": [
    "---"
   ]
  },
  {
   "cell_type": "markdown",
   "metadata": {},
   "source": [
    "**Aufgabe 8:** Suchen Sie selbstständig im Internet nach der Dokumentation der oben genannten Funktion zum Erstellen von Diagrammen. Plotten Sie die in Aufgabe 7 eingelesenen Daten. Vergessen Sie nicht, das Paket der gewünschten Funktion zu importieren.\n",
    "\n",
    "Der Plot soll nur aus den Messpunkten bestehen, also keine Verbindungen zwischen den Punkten oder eine durchgehende Linie beinhalten.\n",
    "\n",
    "Ergänzen Sie abschließend Ihren Plot mit einer Achsenbeschriftung und einem Titel."
   ]
  },
  {
   "cell_type": "code",
   "execution_count": 32,
   "metadata": {},
   "outputs": [
    {
     "data": {
      "image/png": "[encoded data removed]",
      "text/plain": [
       "<Figure size 640x480 with 1 Axes>"
      ]
     },
     "metadata": {},
     "output_type": "display_data"
    }
   ],
   "source": [
    "# Musterlösung\n",
    "\n",
    "import matplotlib.pyplot as plt\n",
    "\n",
    "plt.plot(t,v,marker=\"o\",linestyle=\"\")\n",
    "\n",
    "plt.xlabel(r\"$t$\" + \" in \" + r\"$s$\")\n",
    "plt.ylabel(r\"$v$\"+\" in \"+r\"$\\frac{m}{s}$\")\n",
    "plt.title(\"Geschwindigkeit\")\n",
    "\n",
    "\n",
    "plt.tight_layout()\n"
   ]
  },
  {
   "cell_type": "markdown",
   "metadata": {},
   "source": [
    "---"
   ]
  },
  {
   "cell_type": "markdown",
   "metadata": {},
   "source": [
    "# 5 Abschluss\n",
    "\n",
    "Am Versuchstag werden Sie entweder die von Ihnen aufgenommenen Messdaten oder zur Verfügung gestellte in dem Notebook *Datenauswertung_mit_Python.ipynb* auswerten. Der Code wird anhand von Erklärungen zu wichtigen Funktionen und Modulen geleitet, jedoch von Ihnen selbstständig geschrieben und überprüft. **Nutzen Sie während der Datenauswertung dieses Notebook und die Dokumentationen als Nachschlagewerk.** Sie können in *Visual Studio Code*, wie im Browser, mehrere Dateien gleichzeig in unterschiedlichen Fenstern öffnen.\n"
   ]
  }
 ],
 "metadata": {
  "kernelspec": {
   "display_name": "base",
   "language": "python",
   "name": "python3"
  },
  "language_info": {
   "codemirror_mode": {
    "name": "ipython",
    "version": 3
   },
   "file_extension": ".py",
   "mimetype": "text/x-python",
   "name": "python",
   "nbconvert_exporter": "python",
   "pygments_lexer": "ipython3",
   "version": "3.11.5"
  },
  "orig_nbformat": 4
 },
 "nbformat": 4,
 "nbformat_minor": 2
}
